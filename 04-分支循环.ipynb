{
 "cells": [
  {
   "cell_type": "markdown",
   "metadata": {},
   "source": [
    "# 三大结构\n",
    "- 顺序\n",
    "- 分支\n",
    "- 循环"
   ]
  },
  {
   "cell_type": "markdown",
   "metadata": {},
   "source": [
    "# 分支\n",
    "- \n",
    "      - if 条件表达式：\n",
    "          语句1\n",
    "          语句2\n",
    "          语句3\n",
    "          ......\n",
    "- 条件表达式就是计算结果必须为布尔值的表达式\n",
    "- 表达式后面得到冒号不能少\n",
    "- 注意if后面的出现的语句，如果属于if语句块，则必须同一个缩进等级\n",
    "- 条件表达式结果为True 执行if后面的缩进的语句块\n",
    "          "
   ]
  },
  {
   "cell_type": "code",
   "execution_count": 2,
   "metadata": {},
   "outputs": [
    {
     "name": "stdout",
     "output_type": "stream",
     "text": [
      "去叫家长\n",
      "我们不带你玩\n",
      "滚蛋\n"
     ]
    }
   ],
   "source": [
    "# if语句\n",
    "# 如果age小于18岁，则打印信息“去叫家长”\n",
    "\n",
    "age = 17\n",
    "if age < 18:\n",
    "    print(\"去叫家长\")\n",
    "    print(\"我们不带你玩\")\n",
    "    print(\"滚蛋\")"
   ]
  },
  {
   "cell_type": "code",
   "execution_count": 7,
   "metadata": {
    "scrolled": true
   },
   "outputs": [
    {
     "name": "stdout",
     "output_type": "stream",
     "text": [
      "开始上车喽，老司机们\n"
     ]
    }
   ],
   "source": [
    "# if语句\n",
    "# 如果age小于18岁，则打印信息“去叫家长”\n",
    "\n",
    "age = 19\n",
    "if age < 18:\n",
    "    print(\"去叫家长\")\n",
    "    print(\"我们不带你玩\")\n",
    "    print(\"滚蛋\")\n",
    "print(\"开始上车喽，老司机们\")"
   ]
  },
  {
   "cell_type": "markdown",
   "metadata": {},
   "source": [
    "### 双向分支\n",
    "- if...else...语句\n",
    "    if 条件表达式：\n",
    "        语句1\n",
    "        语句2\n",
    "        ...\n",
    "    else:\n",
    "        语句1\n",
    "        语句2\n",
    "        ......\n",
    "- 双向分支有两个分支，当程序执行到if...else...语句时，一定会执行if或else中的一个，也仅执行一个\n",
    "-缩进问题, if和else一个层级，其余语句一个层级"
   ]
  },
  {
   "cell_type": "code",
   "execution_count": 13,
   "metadata": {},
   "outputs": [
    {
     "name": "stdout",
     "output_type": "stream",
     "text": [
      "请输入性别：a\n",
      "你输入的性别是:a\n",
      "你是女生\n",
      "发糖喽\n",
      "开始上课啦\n"
     ]
    }
   ],
   "source": [
    "# input的作用是0\n",
    "# 1. 在屏幕上输出括号内的字符串\n",
    "# 2. 结束用户输入的内容并返回到程序\n",
    "# 3. input返回的内容一定时字符串类型\n",
    "\n",
    "gender = input(\"请输入性别：\")\n",
    "print(\"你输入的性别是:{0}\".format(gender))\n",
    "\n",
    "if gender == \"男\":\n",
    "    print(\"来，我们纪念性今天，代码敲十遍\")\n",
    "else:\n",
    "    print(\"你是女生\")\n",
    "    print(\"发糖喽\")\n",
    "print(\"开始上课啦\")"
   ]
  },
  {
   "cell_type": "code",
   "execution_count": 22,
   "metadata": {},
   "outputs": [
    {
     "name": "stdout",
     "output_type": "stream",
     "text": [
      "请输入你的考试成绩：10\n",
      "不及格\n"
     ]
    }
   ],
   "source": [
    "# 考试成绩\n",
    "score = input(\"请输入你的考试成绩：\")\n",
    "score = int(score)\n",
    "if  score>90:\n",
    "    print(\"优秀\")\n",
    "elif  score >= 80:\n",
    "    print(\"良\")\n",
    "elif  score>= 70:\n",
    "    print(\"中\")\n",
    "elif  score >= 60:\n",
    "    print(\"及格\")\n",
    "else:\n",
    "    print(\"不及格\")\n"
   ]
  },
  {
   "cell_type": "markdown",
   "metadata": {},
   "source": [
    "## 多路分支\n",
    "- 很多分支的情况，简称多路分支\n",
    "    if 条件表达式：\n",
    "         语句1\n",
    "    elif 条件表达式：\n",
    "         语句1\n",
    "    elif 条件表达式：\n",
    "         语句1\n",
    "    ......\n",
    "    else:\n",
    "         语句1\n",
    "        ......\n",
    "- elif可以有很多个\n",
    "- else可选\n",
    "- 多路分支只会选一个执行"
   ]
  },
  {
   "cell_type": "markdown",
   "metadata": {},
   "source": [
    "## if语句其他：\n",
    "- if语句可以嵌套使用，但不推荐\n",
    "- python没有switch-case语句"
   ]
  },
  {
   "cell_type": "markdown",
   "metadata": {},
   "source": [
    "# 循环语句\n",
    "- 重复执行某些固定动作或者处理基本固定的事物\n",
    "- 分类\n",
    "    for循环\n",
    "    while循环\n",
    "## for循环\n",
    "- for 循环 \n",
    "\n",
    "     for 变量 in 序列:\n",
    "        语句1\n",
    "        语句2\n",
    "        ..."
   ]
  },
  {
   "cell_type": "code",
   "execution_count": 33,
   "metadata": {},
   "outputs": [
    {
     "name": "stdout",
     "output_type": "stream",
     "text": [
      "张三\n",
      "加油鸭张三\n",
      "李四\n",
      "更要加油鸭\n",
      "王五\n",
      "更要加油鸭\n"
     ]
    }
   ],
   "source": [
    "# 列表就是一个列数字或者其他值，一般用中括号表示[]\n",
    "# 例如 [\"张三\"，\"李四\".\"王五\"]\n",
    "\n",
    "#打打印学生列表姓名\n",
    "name = [\"张三\",\"李四\",\"王五\"]\n",
    "for zero in name:\n",
    "    print(zero)\n",
    "    if zero == \"张三\":\n",
    "        print(\"加油鸭{0}\".format(zero))\n",
    "    else:\n",
    "        print(\"更要加油鸭\")"
   ]
  },
  {
   "cell_type": "markdown",
   "metadata": {},
   "source": [
    "## range介绍\n",
    "- 生成一个数字序列\n",
    "- 具体范围可以设定"
   ]
  },
  {
   "cell_type": "code",
   "execution_count": 38,
   "metadata": {},
   "outputs": [
    {
     "name": "stdout",
     "output_type": "stream",
     "text": [
      "1\n",
      "2\n",
      "3\n",
      "4\n",
      "5\n",
      "6\n",
      "7\n",
      "8\n",
      "9\n",
      "10\n"
     ]
    }
   ],
   "source": [
    "# range\n",
    "# 打印从1-10的数字\n",
    "# range左包括右不包括\n",
    "# rangint是特例，他左右都包含\n",
    "# range函数在python2 和python3中有严重区别\n",
    "for i in range(1,11):\n",
    "    print(i)"
   ]
  },
  {
   "cell_type": "markdown",
   "metadata": {},
   "source": [
    "## for-else语句\n",
    "- 当for循环结束的时候,会执行else语句\n",
    "- else语句是可选语句"
   ]
  },
  {
   "cell_type": "code",
   "execution_count": 41,
   "metadata": {},
   "outputs": [
    {
     "name": "stdout",
     "output_type": "stream",
     "text": [
      "张三\n",
      "加油鸭张三\n",
      "李四\n",
      "更要加油鸭\n",
      "王五\n",
      "更要加油鸭\n",
      "张三更要加油啊\n"
     ]
    }
   ],
   "source": [
    "# for-else语句\n",
    "# 打印列表中的同学\n",
    "# 如果没有在列表中，或者列表结束了，我们需要打印提示语句，表示不在爱了\n",
    "name = [\"张三\",\"李四\",\"王五\"]\n",
    "for zero in name:\n",
    "    print(zero)\n",
    "    if zero == \"张三\":\n",
    "        print(\"加油鸭{0}\".format(zero))\n",
    "    else:\n",
    "        print(\"更要加油鸭\")\n",
    "else:\n",
    "    print(\"张三更要加油啊\")"
   ]
  },
  {
   "cell_type": "markdown",
   "metadata": {},
   "source": [
    "## for循环之break,contineu,pass\n",
    "- break: 无条件结束整个循环,简称循环猝死\n",
    "- continue: 无条件结束本次循环，从新进入下一轮\n",
    "- pass:表示占位符"
   ]
  },
  {
   "cell_type": "code",
   "execution_count": 50,
   "metadata": {},
   "outputs": [
    {
     "name": "stdout",
     "output_type": "stream",
     "text": [
      "1\n",
      "2\n",
      "3\n",
      "4\n",
      "5\n",
      "6\n",
      "找到了\n"
     ]
    }
   ],
   "source": [
    "# 在数字1-10中，寻找数字7，一般找到，打印出来，其余则什么都不做\n",
    "# for 小混混中变量表示， 一般用i,k,m,n或者Indx,idx,item之类\n",
    "# 在python中，如果循环遍历名称不重要，可以用下划线(_)代替\n",
    "for i in range(1,11):\n",
    "    if i == 7:\n",
    "        print(\"找到了\")\n",
    "        break\n",
    "    else:\n",
    "        print(i)"
   ]
  },
  {
   "cell_type": "code",
   "execution_count": 2,
   "metadata": {},
   "outputs": [
    {
     "name": "stdout",
     "output_type": "stream",
     "text": [
      "2是偶数\n",
      "4是偶数\n",
      "6是偶数\n",
      "8是偶数\n",
      "10是偶数\n"
     ]
    }
   ],
   "source": [
    "# 在数字1-10中，寻找所有偶数，一般找到，打印出来，其余则什么都不做\n",
    "# for 小混混中变量表示， 一般用i,k,m,n或者Indx,idx,item之类\n",
    "# 在python中，如果循环遍历名称不重要，可以用下划线(_)代替\n",
    "for i in range(1,11):\n",
    "    if i % 2 == 0:\n",
    "        print(\"{0}是偶数\".format(i))"
   ]
  },
  {
   "cell_type": "code",
   "execution_count": 2,
   "metadata": {},
   "outputs": [
    {
     "name": "stdout",
     "output_type": "stream",
     "text": [
      "hello\n",
      "hello\n",
      "hello\n",
      "hello\n",
      "hello\n",
      "hello\n",
      "hello\n",
      "hello\n",
      "hello\n",
      "hello\n"
     ]
    }
   ],
   "source": [
    "# pass 一般用于占位\n",
    "# pass没有跳过功能\n",
    "for i in range(1,11):\n",
    "    pass\n",
    "    print(\"hello\")"
   ]
  }
 ],
 "metadata": {
  "kernelspec": {
   "display_name": "Python 3",
   "language": "python",
   "name": "python3"
  },
  "language_info": {
   "codemirror_mode": {
    "name": "ipython",
    "version": 3
   },
   "file_extension": ".py",
   "mimetype": "text/x-python",
   "name": "python",
   "nbconvert_exporter": "python",
   "pygments_lexer": "ipython3",
   "version": "3.7.4"
  }
 },
 "nbformat": 4,
 "nbformat_minor": 2
}
