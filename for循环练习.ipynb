{
 "cells": [
  {
   "cell_type": "code",
   "execution_count": 21,
   "metadata": {},
   "outputs": [
    {
     "name": "stdout",
     "output_type": "stream",
     "text": [
      "* * * * * \n",
      "* * * * * \n",
      "* * * * * \n",
      "* * * * * \n"
     ]
    }
   ],
   "source": [
    "# 简单图形打印\n",
    "'''\n",
    "打印一下图形在输出上面\n",
    "* * * * *\n",
    "* * * * *\n",
    "* * * * *\n",
    "* * * * *\n",
    "'''\n",
    "for i in range(0,4):\n",
    "    for j in range(0,5):\n",
    "       print(\"*\",end = \" \") \n",
    "    print('')\n"
   ]
  },
  {
   "cell_type": "code",
   "execution_count": 24,
   "metadata": {},
   "outputs": [
    {
     "name": "stdout",
     "output_type": "stream",
     "text": [
      "* * * * * \n",
      "* * * * * \n",
      "* * * * * \n",
      "* * * * * \n"
     ]
    }
   ],
   "source": [
    "for i in range(0,4):   \n",
    "       print(\"* \" * 5) \n"
   ]
  },
  {
   "cell_type": "code",
   "execution_count": 35,
   "metadata": {},
   "outputs": [
    {
     "name": "stdout",
     "output_type": "stream",
     "text": [
      "* * * * * \n",
      "*       *\n",
      "*       *\n",
      "* * * * * \n"
     ]
    }
   ],
   "source": [
    "# 打印图形\n",
    "\"\"\"\n",
    "* * * * *\n",
    "*       * \n",
    "*       *\n",
    "* * * * * \n",
    "\n",
    "思路\n",
    "1. 使用for循环打印\n",
    "2. 如果是第一行和最后一行，则完整打印\n",
    "3. 否则，判断打印 第一个和最后一个打印，其他打印为空\n",
    "\"\"\"\n",
    "for i in range(0,4):\n",
    "    if i == 0:\n",
    "        print(\"* \" * 5)\n",
    "        \n",
    "    if i == 3:\n",
    "        print(\"* \" * 5)\n",
    "    if i == 1:\n",
    "        print(\"*       *\")\n",
    "    if i == 2:\n",
    "        print(\"*       *\")\n",
    "    \n"
   ]
  },
  {
   "cell_type": "code",
   "execution_count": 37,
   "metadata": {},
   "outputs": [
    {
     "name": "stdout",
     "output_type": "stream",
     "text": [
      "* * * * * \n",
      "*       *\n",
      "*       *\n",
      "* * * * * \n"
     ]
    }
   ],
   "source": [
    "for i in range(0,4):\n",
    "    if i == 0 or i == 3:\n",
    "        print(\"* \" * 5)         \n",
    "    if i == 1 or i ==2:\n",
    "        print(\"*       *\")"
   ]
  },
  {
   "cell_type": "code",
   "execution_count": 1,
   "metadata": {},
   "outputs": [
    {
     "name": "stdout",
     "output_type": "stream",
     "text": [
      "* * * * * \n",
      "*       * \n",
      "*       * \n",
      "* * * * * \n"
     ]
    }
   ],
   "source": [
    "for i in range(0,4):\n",
    "    if i == 0 or i == 3:\n",
    "        print(\"* \" * 5)         \n",
    "    if i == 1 or i ==2:\n",
    "        for j in range(0,5):\n",
    "            if j == 0 or j == 4:\n",
    "                print(\"* \",end = \"\")\n",
    "            else:\n",
    "                print(\"  \",end = \"\")\n",
    "        print()"
   ]
  },
  {
   "cell_type": "code",
   "execution_count": 15,
   "metadata": {},
   "outputs": [
    {
     "name": "stdout",
     "output_type": "stream",
     "text": [
      "* \n",
      "* * \n",
      "* * * \n",
      "* * * * \n",
      "* * * * * \n"
     ]
    }
   ],
   "source": [
    "for i in range(0,5):\n",
    "    for j in range(0,i+1):\n",
    "        print(\"*\",end = \" \")\n",
    "    print()"
   ]
  },
  {
   "cell_type": "code",
   "execution_count": 1,
   "metadata": {},
   "outputs": [
    {
     "name": "stdout",
     "output_type": "stream",
     "text": [
      "* \n",
      "* * \n",
      "*   * \n",
      "*     * \n",
      "* * * * * \n"
     ]
    }
   ],
   "source": [
    "# 打印空心三角形\n",
    "# 每一行打印几个星号，跟行号相关\n",
    "# 一行内打印不需要换行，一行打印完毕换行\n",
    "# 需要判断打印是否是最后一行，如果是则打印全部 *\n",
    "# 否则，需要判断是否第一个和最后一个位置，如果是打印 * ，否则打印空格\n",
    "for i in range(5):\n",
    "    for j in range(i+1):\n",
    "        if i == 4:\n",
    "            print(\"* \",end= \"\")\n",
    "            continue\n",
    "        # 如果不是最后一行\n",
    "        # j 控制的是列的数字\n",
    "        if j == 0 or j == i:\n",
    "            print(\"* \",end= \"\")\n",
    "        else:\n",
    "            print(\"  \",end=\"\")\n",
    "    print() \n",
    "\n",
    "            "
   ]
  },
  {
   "cell_type": "code",
   "execution_count": 8,
   "metadata": {},
   "outputs": [
    {
     "name": "stdout",
     "output_type": "stream",
     "text": [
      "* * * * * \n",
      "* * * * \n",
      "* * * \n",
      "* * \n",
      "* \n"
     ]
    }
   ],
   "source": [
    "for i in range(5):\n",
    "    for j in range(5-i):\n",
    "        print(\"* \",end=\"\")\n",
    "    print()"
   ]
  },
  {
   "cell_type": "code",
   "execution_count": 18,
   "metadata": {},
   "outputs": [
    {
     "name": "stdout",
     "output_type": "stream",
     "text": [
      "* * * * * \n",
      "*     * \n",
      "*   * \n",
      "* * \n",
      "* \n"
     ]
    }
   ],
   "source": [
    "\n",
    "# i控制行数\n",
    "# j 控制列数\n",
    "for i in range(5):\n",
    "    for j in range(5-i):\n",
    "        if i == 0:\n",
    "            print(\"* \",end=\"\")\n",
    "            continue\n",
    "        if j == 0 or j == 5-i-1:\n",
    "            print(\"* \", end=\"\")\n",
    "        else:\n",
    "            print(\"  \",end=\"\")\n",
    "    print()"
   ]
  },
  {
   "cell_type": "code",
   "execution_count": 6,
   "metadata": {},
   "outputs": [
    {
     "name": "stdout",
     "output_type": "stream",
     "text": [
      "      \n",
      "     * \n",
      "    * * \n",
      "   * * * \n",
      "  * * * * \n",
      " * * * * * \n"
     ]
    }
   ],
   "source": [
    "# 打印正三角形\n",
    "for i in range(6):\n",
    "    # 总体思路是，先打印一行空格，代表没一行星星的空格\n",
    "    # 在不换行，打印星星\n",
    "    for j in range(6-i):\n",
    "        print(\" \",end=\"\")\n",
    "    for m in range(i):\n",
    "        print(\"* \",end=\"\")\n",
    "    print()"
   ]
  },
  {
   "cell_type": "code",
   "execution_count": 1,
   "metadata": {},
   "outputs": [
    {
     "ename": "TypeError",
     "evalue": "unsupported operand type(s) for ** or pow(): 'str' and 'int'",
     "output_type": "error",
     "traceback": [
      "\u001b[1;31m---------------------------------------------------------------------------\u001b[0m",
      "\u001b[1;31mTypeError\u001b[0m                                 Traceback (most recent call last)",
      "\u001b[1;32m<ipython-input-1-0daa70198b0a>\u001b[0m in \u001b[0;36m<module>\u001b[1;34m\u001b[0m\n\u001b[0;32m      4\u001b[0m     \u001b[0mb\u001b[0m \u001b[1;33m=\u001b[0m \u001b[0mtemp\u001b[0m\u001b[1;33m[\u001b[0m\u001b[1;36m1\u001b[0m\u001b[1;33m]\u001b[0m\u001b[1;33m\u001b[0m\u001b[1;33m\u001b[0m\u001b[0m\n\u001b[0;32m      5\u001b[0m     \u001b[0mc\u001b[0m \u001b[1;33m=\u001b[0m \u001b[0mtemp\u001b[0m\u001b[1;33m[\u001b[0m\u001b[1;36m2\u001b[0m\u001b[1;33m]\u001b[0m\u001b[1;33m\u001b[0m\u001b[1;33m\u001b[0m\u001b[0m\n\u001b[1;32m----> 6\u001b[1;33m     \u001b[1;32mif\u001b[0m \u001b[0ma\u001b[0m\u001b[1;33m**\u001b[0m\u001b[1;36m3\u001b[0m \u001b[1;33m+\u001b[0m \u001b[0mb\u001b[0m\u001b[1;33m**\u001b[0m\u001b[1;36m3\u001b[0m \u001b[1;33m+\u001b[0m \u001b[0mc\u001b[0m\u001b[1;33m**\u001b[0m\u001b[1;36m3\u001b[0m \u001b[1;33m==\u001b[0m \u001b[0mi\u001b[0m\u001b[1;33m:\u001b[0m\u001b[1;33m\u001b[0m\u001b[1;33m\u001b[0m\u001b[0m\n\u001b[0m\u001b[0;32m      7\u001b[0m         \u001b[0mprint\u001b[0m\u001b[1;33m(\u001b[0m\u001b[1;34m\"这是水仙花数\"\u001b[0m\u001b[1;33m)\u001b[0m\u001b[1;33m\u001b[0m\u001b[1;33m\u001b[0m\u001b[0m\n\u001b[0;32m      8\u001b[0m     \u001b[1;32melse\u001b[0m\u001b[1;33m:\u001b[0m\u001b[1;33m\u001b[0m\u001b[1;33m\u001b[0m\u001b[0m\n",
      "\u001b[1;31mTypeError\u001b[0m: unsupported operand type(s) for ** or pow(): 'str' and 'int'"
     ]
    }
   ],
   "source": [
    "# 水仙花数\n",
    "for i in range(100,1000):\n",
    "    temp = list(str(i))\n",
    "    a = temp[0]\n",
    "    b = temp[1]\n",
    "    c = temp[2]\n",
    "    if a**3 + b**3 + c**3 == i:\n",
    "        print(\"这是水仙花数\")\n",
    "    else:\n",
    "        print(\"这不是水仙花数\")"
   ]
  },
  {
   "cell_type": "code",
   "execution_count": 10,
   "metadata": {},
   "outputs": [
    {
     "name": "stdout",
     "output_type": "stream",
     "text": [
      "red:0\n",
      "yellow:2\n",
      "green:6\n",
      "red:0\n",
      "yellow:3\n",
      "green:5\n",
      "red:1\n",
      "yellow:1\n",
      "green:6\n",
      "red:1\n",
      "yellow:2\n",
      "green:5\n",
      "red:1\n",
      "yellow:3\n",
      "green:4\n",
      "red:2\n",
      "yellow:0\n",
      "green:6\n",
      "red:2\n",
      "yellow:1\n",
      "green:5\n",
      "red:2\n",
      "yellow:2\n",
      "green:4\n",
      "red:2\n",
      "yellow:3\n",
      "green:3\n",
      "red:3\n",
      "yellow:0\n",
      "green:5\n",
      "red:3\n",
      "yellow:1\n",
      "green:4\n",
      "red:3\n",
      "yellow:2\n",
      "green:3\n",
      "red:3\n",
      "yellow:3\n",
      "green:2\n"
     ]
    }
   ],
   "source": [
    "# 有红、黄、蓝三种颜色的秋，其中红球3个，黄球3个，绿球6个，先将这12个球混合放入一个盒子中，从中任意摸出8个球\n",
    "# 计算摸出球的各种颜色搭配\n",
    "for red in range(0,4):\n",
    "    for yellow in range(0,4):\n",
    "        # 8个球中肯定会有两个绿球\n",
    "        for green in range(2,7):\n",
    "            if red + yellow + green == 8:\n",
    "                print(\"red:{}\".format(red))\n",
    "                print(\"yellow:{}\".format(yellow))\n",
    "                print(\"green:{}\".format(green))"
   ]
  }
 ],
 "metadata": {
  "kernelspec": {
   "display_name": "Python 3",
   "language": "python",
   "name": "python3"
  },
  "language_info": {
   "codemirror_mode": {
    "name": "ipython",
    "version": 3
   },
   "file_extension": ".py",
   "mimetype": "text/x-python",
   "name": "python",
   "nbconvert_exporter": "python",
   "pygments_lexer": "ipython3",
   "version": "3.7.4"
  }
 },
 "nbformat": 4,
 "nbformat_minor": 2
}
