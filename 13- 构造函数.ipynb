{
 "cells": [
  {
   "cell_type": "code",
   "execution_count": 2,
   "metadata": {},
   "outputs": [
    {
     "name": "stdout",
     "output_type": "stream",
     "text": [
      "In init func\n"
     ]
    }
   ],
   "source": [
    "# 构造函数\n",
    "\n",
    "class Person():\n",
    "    # 对Person类进行实例化的时候\n",
    "    # 姓名要确定\n",
    "    # 年龄要确定\n",
    "    # 地址要有\n",
    "    def __init__(self):\n",
    "        self.name = \"zjt\"\n",
    "        self.age = 25\n",
    "        self.address = \"Studentwhonheim\"\n",
    "        print(\"In init func\")\n",
    "# 实例化一个人\n",
    "p = Person()"
   ]
  },
  {
   "cell_type": "code",
   "execution_count": 4,
   "metadata": {},
   "outputs": [
    {
     "name": "stdout",
     "output_type": "stream",
     "text": [
      "B\n"
     ]
    }
   ],
   "source": [
    "# 构造函数的调用顺序 -1\n",
    "# 如果子类没有写构造函数，则自动向上查找，直到找到\n",
    "class A():\n",
    "    def __init__(self):\n",
    "        print(\"A\")\n",
    "class B():\n",
    "    def __init__(self):\n",
    "        print(\"B\")\n",
    "class C(B):\n",
    "    pass\n",
    "\n",
    "# 此时，首先查找C德尔构造函数\n",
    "# 如果没有，则向上安装MRO顺序查找父类构造函数，直到找到为止\n",
    "c = C()\n"
   ]
  },
  {
   "cell_type": "code",
   "execution_count": 6,
   "metadata": {},
   "outputs": [
    {
     "ename": "SyntaxError",
     "evalue": "invalid character in identifier (<ipython-input-6-09f51e4e95b2>, line 6)",
     "output_type": "error",
     "traceback": [
      "\u001b[1;36m  File \u001b[1;32m\"<ipython-input-6-09f51e4e95b2>\"\u001b[1;36m, line \u001b[1;32m6\u001b[0m\n\u001b[1;33m    def __init__(self，name):\u001b[0m\n\u001b[1;37m                         ^\u001b[0m\n\u001b[1;31mSyntaxError\u001b[0m\u001b[1;31m:\u001b[0m invalid character in identifier\n"
     ]
    }
   ],
   "source": [
    "# 构造函数的调用顺序 -2\n",
    "class A():\n",
    "    def __init__(self):\n",
    "        print(\"A\")\n",
    "class B():\n",
    "    def __init__(self，name):\n",
    "        print(\"B\")\n",
    "        print(name)\n",
    "class C(B):\n",
    "    pass\n",
    "\n",
    "\n",
    "# 此时，首先查找C德尔构造函数\n",
    "# 如果没有，则向上安装MRO顺序查找父类构造函数，直到找到为止\n",
    "# 此时，会出现参数解构不对应错误\n",
    "c = C()\n"
   ]
  },
  {
   "cell_type": "code",
   "execution_count": 12,
   "metadata": {},
   "outputs": [
    {
     "name": "stdout",
     "output_type": "stream",
     "text": [
      "B\n",
      "这是C\n",
      "这是C中的附加功能\n"
     ]
    }
   ],
   "source": [
    "# 构造函数的调用顺序 -3\n",
    "class A():\n",
    "    def __init__(self):\n",
    "        print(\"A\")\n",
    "class B():\n",
    "    def __init__(self,name):\n",
    "        print(\"B\")\n",
    "        print(name)\n",
    "class C(B):\n",
    "    # C中向扩展B的构造函数\n",
    "    # 即调用B的构造函数后再添加一些功能\n",
    "    # 有两种方法实现\n",
    "    # 第一种是通过父类名调用\n",
    "    \"\"\"\n",
    "    def __init__(self, name):\n",
    "        # 首先调用父类构造函数\n",
    "        B.__init__(self, name)\n",
    "        # 其次再增加自己功能\n",
    "        print(\"这是C中附加的功能\")\n",
    "    \"\"\"\n",
    "    # 第二种，使用super调用\n",
    "    def __init__(self,name):\n",
    "        super(C, self).__init__(name)\n",
    "        print(\"这是C中的附加功能\")\n",
    "\n",
    "# 此时，首先查找C德尔构造函数\n",
    "# 如果没有，则向上安装MRO顺序查找父类构造函数，直到找到为止\n",
    "# 此时，会出现参数解构不对应错误\n",
    "c = C(\"这是C\")\n"
   ]
  },
  {
   "cell_type": "code",
   "execution_count": 18,
   "metadata": {},
   "outputs": [
    {
     "name": "stdout",
     "output_type": "stream",
     "text": [
      "(<class '__main__.Tutor'>, <class '__main__.Teacher'>, <class '__main__.Student'>, <class '__main__.Person'>, <class 'object'>)\n",
      "{}\n",
      "{'__module__': '__main__', '__doc__': None}\n",
      "******************************\n",
      "(<class '__main__.TutorM'>, <class '__main__.Person'>, <class '__main__.TeacherMixin'>, <class '__main__.StudentMixin'>, <class 'object'>)\n",
      "{}\n",
      "{'__module__': '__main__', '__doc__': None}\n"
     ]
    }
   ],
   "source": [
    "# Mixin案例\n",
    "class Person():\n",
    "    name = \"zjr\"\n",
    "    age = 25\n",
    "    \n",
    "    def eat(self):\n",
    "        print(\"eat\")\n",
    "        \n",
    "    def drink(self):\n",
    "        print(\"drink\")\n",
    "    \n",
    "    def sleep(self):\n",
    "        print(\"sleep\")\n",
    "    \n",
    "class Teacher(Person):\n",
    "    def work(self):\n",
    "        print(\"work\")\n",
    "\n",
    "class Student(Person):\n",
    "    def study(self):\n",
    "        print(\"Study\")\n",
    "\n",
    "class Tutor(Teacher,Student):\n",
    "    pass\n",
    "\n",
    "t =Tutor()\n",
    "print(Tutor.__mro__)\n",
    "print(t.__dict__)\n",
    "print(Tutor.__dict__)\n",
    "\n",
    "print(\"*\" * 30)\n",
    "\n",
    "class TeacherMixin():\n",
    "    def work(self):\n",
    "        print(\"work\")\n",
    "class StudentMixin():\n",
    "    def study(self):\n",
    "        print(\"Study\")\n",
    "        \n",
    "class TutorM(Person, TeacherMixin, StudentMixin):\n",
    "    pass\n",
    "\n",
    "tt = TutorM()\n",
    "print(TutorM.__mro__)\n",
    "print(tt.__dict__)\n",
    "print(TutorM.__dict__)"
   ]
  },
  {
   "cell_type": "code",
   "execution_count": 22,
   "metadata": {},
   "outputs": [
    {
     "name": "stdout",
     "output_type": "stream",
     "text": [
      "True\n",
      "False\n",
      "True\n"
     ]
    }
   ],
   "source": [
    "# issubclass  检测一个类是否是另一个类的子类\n",
    "\n",
    "class A():\n",
    "    pass\n",
    "\n",
    "class B(A):\n",
    "    pass\n",
    "\n",
    "class C():\n",
    "    pass\n",
    "\n",
    "print( issubclass(B,A))\n",
    "print( issubclass(C,A))\n",
    "print( issubclass(C,object))"
   ]
  },
  {
   "cell_type": "code",
   "execution_count": 24,
   "metadata": {},
   "outputs": [
    {
     "name": "stdout",
     "output_type": "stream",
     "text": [
      "True\n",
      "False\n"
     ]
    }
   ],
   "source": [
    "# isinstance  检测一个对象是否是一个类的实例\n",
    "\n",
    "class A():\n",
    "    pass\n",
    "a = A()\n",
    "print(isinstance(a,A))\n",
    "print(isinstance(A,A))\n"
   ]
  },
  {
   "cell_type": "code",
   "execution_count": 26,
   "metadata": {},
   "outputs": [
    {
     "name": "stdout",
     "output_type": "stream",
     "text": [
      "True\n",
      "False\n"
     ]
    }
   ],
   "source": [
    "# hasattr:检测一个对象是否由成员xxx\n",
    "class A():\n",
    "    name = \"zjr\"\n",
    "    \n",
    "a = A()\n",
    "print(hasattr(a,\"name\"))\n",
    "print(hasattr(a,\"age\"))"
   ]
  },
  {
   "cell_type": "code",
   "execution_count": 27,
   "metadata": {},
   "outputs": [
    {
     "data": {
      "text/plain": [
       "['__class__',\n",
       " '__delattr__',\n",
       " '__dict__',\n",
       " '__dir__',\n",
       " '__doc__',\n",
       " '__eq__',\n",
       " '__format__',\n",
       " '__ge__',\n",
       " '__getattribute__',\n",
       " '__gt__',\n",
       " '__hash__',\n",
       " '__init__',\n",
       " '__init_subclass__',\n",
       " '__le__',\n",
       " '__lt__',\n",
       " '__module__',\n",
       " '__ne__',\n",
       " '__new__',\n",
       " '__reduce__',\n",
       " '__reduce_ex__',\n",
       " '__repr__',\n",
       " '__setattr__',\n",
       " '__sizeof__',\n",
       " '__str__',\n",
       " '__subclasshook__',\n",
       " '__weakref__']"
      ]
     },
     "execution_count": 27,
     "metadata": {},
     "output_type": "execute_result"
    }
   ],
   "source": [
    "# dir : 获取对象的成员列表\n",
    "class A():\n",
    "    pass\n",
    "\n",
    "dir(A)\n",
    "a = A()\n",
    "dir(a)"
   ]
  }
 ],
 "metadata": {
  "kernelspec": {
   "display_name": "Python 3",
   "language": "python",
   "name": "python3"
  },
  "language_info": {
   "codemirror_mode": {
    "name": "ipython",
    "version": 3
   },
   "file_extension": ".py",
   "mimetype": "text/x-python",
   "name": "python",
   "nbconvert_exporter": "python",
   "pygments_lexer": "ipython3",
   "version": "3.7.4"
  }
 },
 "nbformat": 4,
 "nbformat_minor": 2
}
