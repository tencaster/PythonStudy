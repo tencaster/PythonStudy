{
 "cells": [
  {
   "cell_type": "markdown",
   "metadata": {},
   "source": [
    "# Git - 起源\n",
    "\n",
    "- 个人文件的版本控制\n",
    "- 多方协作\n",
    "- linus搞定的git\n",
    "- 2008年github上线\n",
    "- 关于版本控制的产品\n",
    "    - 集中式:cvs/svn\n",
    "    - 分布式: github开源,bitbuckets私人\n",
    "    - 分享精神: blog + github\n",
    "\n",
    "\n",
    "## Git安装\n",
    "https://www.liaoxuefeng.com/wiki/896043488029600\n",
    "- 官网: git-scm.com/downloads\n",
    "- windows:\n",
    "- linux:\n",
    "- macos:"
   ]
  },
  {
   "cell_type": "markdown",
   "metadata": {},
   "source": [
    "# Git使用\n",
    "###    $ git config --global user.name \"Your Name\"     $ git config --global user.email \"email@example.com\"\n",
    "因为Git是分布式版本控制系统，所以，每个机器都必须自报家门：你的名字和Email地址。你也许会担心，如果有人故意冒充别人怎么办？这个不必担心，首先我们相信大家都是善良无知的群众，其次，真的有冒充的也是有办法可查的。\n",
    "\n",
    "注意git config命令的--global参数，用了这个参数，表示你这台机器上所有的Git仓库都会使用这个配置，当然也可以对某个仓库指定不同的用户名和Email地址。"
   ]
  },
  {
   "cell_type": "markdown",
   "metadata": {},
   "source": [
    "# 创建\n",
    "- 创建一个版本库非常简单，首先，选择一个合适的地方，创建一个空目录：\n",
    "- $ mkdir learngit\n",
    "- $ cd learngit\n",
    "- $ pwd\n",
    "- /Users/michael/learngit\n",
    "- pwd命令用于显示当前目录。在我的Mac上，这个仓库位于/Users/michael/learngit。\n",
    "\n",
    "## 管理\n",
    "\n",
    "- 通过git init命令把这个目录变成Git可以管理的仓库：\n",
    "- $ git init\n",
    "- Initialized empty Git repository in /Users/michael/learngit/.git/"
   ]
  },
  {
   "cell_type": "markdown",
   "metadata": {},
   "source": [
    "# 文件\n",
    "现在我们编写一个readme.txt文件，内容如下：\n",
    "\n",
    "Git is a version control system.\n",
    "Git is free software.\n",
    "一定要放到learngit目录下（子目录也行），因为这是一个Git仓库，放到其他地方Git再厉害也找不到这个文件。\n",
    "\n",
    "和把大象放到冰箱需要3步相比，把一个文件放到Git仓库只需要两步。\n",
    "\n",
    "第一步，用命令git add告诉Git，把文件添加到仓库：\n",
    "\n",
    "$ git add readme.txt\n",
    "执行上面的命令，没有任何显示，这就对了，Unix的哲学是“没有消息就是好消息”，说明添加成功。\n",
    "\n",
    "第二步，用命令git commit告诉Git，把文件提交到仓库：\n",
    "\n",
    "$ git commit -m \"wrote a readme file\"\n",
    "[master (root-commit) eaadf4e] wrote a readme file\n",
    " 1 file changed, 2 insertions(+)\n",
    " create mode 100644 readme.txt\n",
    "简单解释一下git commit命令，-m后面输入的是本次提交的说明，可以输入任意内容，当然最好是有意义的，这样你就能从历史记录里方便地找到改动记录。\n",
    "\n",
    "嫌麻烦不想输入-m \"xxx\"行不行？确实有办法可以这么干，但是强烈不建议你这么干，因为输入说明对自己对别人阅读都很重要。实在不想输入说明的童鞋请自行Google，我不告诉你这个参数。\n",
    "\n",
    "git commit命令执行成功后会告诉你，1 file changed：1个文件被改动（我们新添加的readme.txt文件）；2 insertions：插入了两行内容（readme.txt有两行内容）。"
   ]
  }
 ],
 "metadata": {
  "kernelspec": {
   "display_name": "Python 3",
   "language": "python",
   "name": "python3"
  },
  "language_info": {
   "codemirror_mode": {
    "name": "ipython",
    "version": 3
   },
   "file_extension": ".py",
   "mimetype": "text/x-python",
   "name": "python",
   "nbconvert_exporter": "python",
   "pygments_lexer": "ipython3",
   "version": "3.7.4"
  }
 },
 "nbformat": 4,
 "nbformat_minor": 2
}
