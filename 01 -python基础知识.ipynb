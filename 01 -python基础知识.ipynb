{
 "cells": [
  {
   "cell_type": "markdown",
   "metadata": {},
   "source": [
    "# 主要内容\n",
    "- 坚持写blog\n",
    "- jpyter notebook的用法\n",
    "- 变量\n",
    "- 跟vi/vim的编辑模式很像"
   ]
  },
  {
   "cell_type": "code",
   "execution_count": 7,
   "metadata": {},
   "outputs": [],
   "source": [
    "# 声明的三种格式\n",
    "# 格式1\n",
    "s1 = \"我是zerocaster\"\n",
    "\n",
    "# 格式2\n",
    "s2 = s1 = \"i am zerocaster\"\n",
    "\n",
    "#格式3\n",
    "s1,s2,s3 = \"i am zerocaster\",\"i am zerosaber\",\"i am tencaster\""
   ]
  },
  {
   "cell_type": "markdown",
   "metadata": {},
   "source": [
    "# 变量类型\n",
    "- 严格意义上，python只有一个类型\n",
    "- 标准数据类型六种\n",
    "    - 数字Number\n",
    "    - 字符串类型 str\n",
    "    - 列表 list\n",
    "    - 元组 tuple\n",
    "    - 字典 dict\n",
    "    - 集合 set"
   ]
  },
  {
   "cell_type": "markdown",
   "metadata": {},
   "source": [
    "# 数字类型Number \n",
    "- pyhton中的数字没有大小限制\n",
    "# 常见数字分类\n",
    "- 整数\n",
    "    - 没有小数部分\n",
    "    - 包含正数，负数,0\n",
    "    - 二进制\n",
    "        - 只有0,1\n",
    "        - 以0b开头的01串\n",
    "        - 例如:\n",
    "            0b110\n",
    "            0b11110\n",
    "    - 八进制\n",
    "        - 以0o开头的 0到7之间的数字串\n",
    "        - 例如:\n",
    "            -0o71\n",
    "    - 十六进制\n",
    "        - 以0x组成的由0-9，a-f构成的串\n",
    "        \n",
    "- 浮点数\n",
    "    \n",
    "- 科学计数法\n",
    "- 复数"
   ]
  },
  {
   "cell_type": "code",
   "execution_count": 9,
   "metadata": {},
   "outputs": [
    {
     "name": "stdout",
     "output_type": "stream",
     "text": [
      "6\n",
      "30\n"
     ]
    }
   ],
   "source": [
    "# 二进制定义\n",
    "a1 = 0b110\n",
    "print(a1)\n",
    "\n",
    "a2 = 0b11110\n",
    "print(a2)"
   ]
  },
  {
   "cell_type": "code",
   "execution_count": 12,
   "metadata": {},
   "outputs": [
    {
     "name": "stdout",
     "output_type": "stream",
     "text": [
      "57\n"
     ]
    }
   ],
   "source": [
    "#八进制\n",
    "a3 = 0o71\n",
    "print(a3)"
   ]
  },
  {
   "cell_type": "code",
   "execution_count": 14,
   "metadata": {},
   "outputs": [
    {
     "name": "stdout",
     "output_type": "stream",
     "text": [
      "65535\n"
     ]
    }
   ],
   "source": [
    "#十六进制\n",
    "a4 = 0xffff\n",
    "print(a4)"
   ]
  },
  {
   "cell_type": "markdown",
   "metadata": {},
   "source": [
    "##  浮点数\n",
    "- 就是通俗意义上的小数\n",
    "- 常见的案例格式\n",
    "    - 3.14159\n",
    "    - 3.\n",
    "    - 0.4\n",
    "    - .4\n",
    "- 科学计数法\n",
    "    - 定义跟数学定义一致\n",
    "    - 写法就是e后面跟整数用来表示10的指数"
   ]
  },
  {
   "cell_type": "code",
   "execution_count": 17,
   "metadata": {},
   "outputs": [
    {
     "name": "stdout",
     "output_type": "stream",
     "text": [
      "178\n",
      "178.0\n",
      "0.2\n"
     ]
    }
   ],
   "source": [
    "# 科学计数法\n",
    "heigh = 178\n",
    "print(178)\n",
    "\n",
    "heigh = 1.78e2\n",
    "print(heigh)\n",
    "\n",
    "a = .2\n",
    "print(a)"
   ]
  },
  {
   "cell_type": "markdown",
   "metadata": {},
   "source": [
    "# 复数 complex\n",
    "- 与数学定义一致\n",
    "- 复数的虚部用j/J表示\n",
    "- 例如:\n",
    "    - 5+4j\n",
    "    - 4j\n",
    "    - (4j)"
   ]
  },
  {
   "cell_type": "code",
   "execution_count": 19,
   "metadata": {},
   "outputs": [
    {
     "name": "stdout",
     "output_type": "stream",
     "text": [
      "4j\n"
     ]
    }
   ],
   "source": [
    "a = 4j\n",
    "print(a)"
   ]
  },
  {
   "cell_type": "markdown",
   "metadata": {},
   "source": [
    "# 布尔值\n",
    "- 布尔值就是用来表示真假的值\n",
    "- 只有两个值： True/False\n",
    "- 在python中，布尔值可以当数字使用\n",
    "    - 布尔值如果当数字使用， True = 1 , False = 0\n",
    "    - 如果数字用来当布尔值使用， 0 = False , 其余当作True"
   ]
  },
  {
   "cell_type": "code",
   "execution_count": 23,
   "metadata": {},
   "outputs": [
    {
     "name": "stdout",
     "output_type": "stream",
     "text": [
      "19\n",
      "18\n",
      "复数是True\n"
     ]
    }
   ],
   "source": [
    "# 布尔值当作数字使用\n",
    "age = 18 + True\n",
    "print(age)\n",
    "\n",
    "age = 18 + False\n",
    "print(age)\n",
    "\n",
    "#判断语句\n",
    "a = -1\n",
    "\n",
    "if a:\n",
    "    print(\"复数是True\")\n",
    "else:\n",
    "    print(\"复数是False\")"
   ]
  },
  {
   "cell_type": "markdown",
   "metadata": {},
   "source": [
    "# 字符串\n",
    "- 表达文字信息的内容,比如\"零之法师\"\n",
    "- 形式上是引号引起来的一段内容\n",
    "- 引号包括\n",
    "    - 单引号\n",
    "    - 双引号\n",
    "    - 三引号\n",
    "- 单双引号含义一致"
   ]
  },
  {
   "cell_type": "code",
   "execution_count": 25,
   "metadata": {},
   "outputs": [
    {
     "name": "stdout",
     "output_type": "stream",
     "text": [
      "zerocaster\n",
      "tencaster\n",
      "\n",
      "zero\n",
      "saber\n",
      "caster\n",
      "\n"
     ]
    }
   ],
   "source": [
    "# 字符串\n",
    "\n",
    "love = \"zerocaster\"\n",
    "print(love)\n",
    "\n",
    "love2 = 'tencaster'\n",
    "print(love2)\n",
    "\n",
    "# 三引号可以表示多行\n",
    "love3 = \"\"\"\n",
    "zero\n",
    "saber\n",
    "caster\n",
    "\"\"\"\n",
    "print(love3)"
   ]
  },
  {
   "cell_type": "markdown",
   "metadata": {},
   "source": [
    "# None类型\n",
    "- 表示没有，通常用来占位\n",
    "- 比如返回，用来表示返回一个空\n"
   ]
  },
  {
   "cell_type": "markdown",
   "metadata": {},
   "source": [
    "# 表达式\n",
    "\n",
    "- 由一个或者几个数字或者变量或者运算符合成的一行代码\n",
    "- 通常返回一个结果\n",
    "# 运算符\n",
    "- 有一个以上的值经过一系列的运算所得到新值的过程就叫运算\n",
    "- 用来操作运算的符号叫运算\n",
    "- 运算符分类\n",
    "    - 算数运算符\n",
    "    - 比较或者关系运算符\n",
    "    - 赋值运算符\n",
    "    - 逻辑运算符\n",
    "    - 位运算\n",
    "    - 成员运算符\n",
    "    - 身份运算符"
   ]
  },
  {
   "cell_type": "code",
   "execution_count": 4,
   "metadata": {},
   "outputs": [],
   "source": [
    "# 表达式\n",
    "a = 1 + 2"
   ]
  },
  {
   "cell_type": "markdown",
   "metadata": {},
   "source": [
    "## 算数运算符\n",
    "- 用来进行算数运算的符号\n",
    "- 通常用来表示加减乘除\n",
    "- python 没有自增自减运算符"
   ]
  },
  {
   "cell_type": "code",
   "execution_count": 1,
   "metadata": {},
   "outputs": [
    {
     "name": "stdout",
     "output_type": "stream",
     "text": [
      "5\n",
      "11\n",
      "24\n",
      "2.25\n",
      "2\n",
      "1\n",
      "-3\n",
      "49\n"
     ]
    }
   ],
   "source": [
    "# 算数运算符\n",
    "\n",
    "#加减乘跟数学意义基本一致\n",
    "\n",
    "a = 8 - 3\n",
    "\n",
    "print(a)\n",
    "\n",
    "b = 8 + 3\n",
    "\n",
    "print(b)\n",
    "\n",
    "c= 8 * 3\n",
    "\n",
    "print(c)\n",
    "\n",
    "# python除法分为普通除法，地板除法(取整除法)，取余\n",
    "\n",
    "#正常除法\n",
    "a = 9 / 4\n",
    "print(a)\n",
    "\n",
    "# 地板除法\n",
    "\n",
    "a = 9 // 4\n",
    "print(a)\n",
    "\n",
    "# 取余\n",
    "a = 9 % 4\n",
    "print(a)\n",
    "# 除以负数取余\n",
    "# 理解这个结果参考取余的定义    （9 - x） ÷ （-4） = y 余0\n",
    "\n",
    "a = 9 % (-4)\n",
    "print(a)\n",
    "\n",
    "# 两个乘号就是指数\n",
    "a = 7 ** 2\n",
    "print(a)"
   ]
  },
  {
   "cell_type": "markdown",
   "metadata": {},
   "source": [
    "# 比较运算符\n",
    "- 对两个内容进行比较的运算符\n",
    "- 结果一点是布尔值，即True/False"
   ]
  },
  {
   "cell_type": "code",
   "execution_count": 6,
   "metadata": {},
   "outputs": [
    {
     "name": "stdout",
     "output_type": "stream",
     "text": [
      "False\n",
      "True\n",
      "False\n",
      "False\n"
     ]
    }
   ],
   "source": [
    "# 等于 ==\n",
    "a = 3 == 4\n",
    "print(a)\n",
    "\n",
    "# 不等于  !=\n",
    "a = 3 != 4\n",
    "print(a)\n",
    "\n",
    "# 其他的符号\n",
    "\n",
    "# >,>=,<,<=\n",
    "print(3 >= 8)\n",
    "\n",
    "print(\"Wang\" == \"Zhang\")"
   ]
  },
  {
   "cell_type": "markdown",
   "metadata": {},
   "source": [
    "# 赋值运算符\n",
    "- 把一个值放到变量里边去"
   ]
  },
  {
   "cell_type": "code",
   "execution_count": 14,
   "metadata": {},
   "outputs": [
    {
     "name": "stdout",
     "output_type": "stream",
     "text": [
      "103\n",
      "106\n"
     ]
    }
   ],
   "source": [
    "# 赋值符号 = \n",
    "a = 9\n",
    "\n",
    "# 复杂赋值\n",
    "a = b = 9  # 从右往左计算  \n",
    "a,b = 1,2\n",
    "\n",
    "# 赋值的缩写\n",
    "cc = 100\n",
    "cc = cc + 3\n",
    "print(cc)\n",
    "\n",
    "# 符号缩写\n",
    "\n",
    "cc += 3    #等于  cc = cc + 3\n",
    "print(cc)\n",
    "\n",
    "## 所有数学运算符都可以缩写\n",
    "\n",
    "# -=,*=,/=,//=,%=,**= 都是缩写\n",
    "# python里没有 ++， --"
   ]
  },
  {
   "cell_type": "markdown",
   "metadata": {},
   "source": [
    "# 逻辑运算符\n",
    "- 对布尔类型变量或者值进行运算符的符号\n",
    "- and: 逻辑与\n",
    "- or : 逻辑或\n",
    "- not: 逻辑非\n",
    "- python里面的逻辑运算没有异或\n",
    "- 运算规则\n",
    "    - and 看做乘法， or看做加法，\n",
    "    - True看做1 ， False 看做0\n",
    "    - 则逻辑运算就能转换成整数数学运算\n",
    "    - 最后结果如果是0则为False, 否则为True\n",
    "- 逻辑运算的短路问题\n",
    "    - 逻辑运算式，按照运算顺序计算，一旦能够确定整个式子未来的值，则不在进行运算，直接返回\n",
    "    "
   ]
  },
  {
   "cell_type": "code",
   "execution_count": 18,
   "metadata": {},
   "outputs": [
    {
     "name": "stdout",
     "output_type": "stream",
     "text": [
      "True\n",
      "False\n",
      "False\n"
     ]
    }
   ],
   "source": [
    "# 逻辑表达式\n",
    "a = True\n",
    "b = True\n",
    "c = False\n",
    "\n",
    "aa = a and b #左边表达式可以转换成 1*1\n",
    "print(aa)\n",
    "\n",
    "bb = a and c\n",
    "print(bb)\n",
    "\n",
    "cc = 100 and c\n",
    "print(cc)\n",
    "\n",
    "# 布尔值跟数字的转化\n",
    "# 数字转换成布尔值的时候， 0 = False,其余是True\n",
    "# 布尔值转换成数字的时候:  True =  1 False = 0"
   ]
  },
  {
   "cell_type": "code",
   "execution_count": 20,
   "metadata": {},
   "outputs": [
    {
     "name": "stdout",
     "output_type": "stream",
     "text": [
      "True\n"
     ]
    }
   ],
   "source": [
    "# 短路问题\n",
    "a = True\n",
    "b = False\n",
    "c = False\n",
    "\n",
    "aa = a or b and (a and b)  #转换成算数 1+ ......\n",
    "print(aa)"
   ]
  },
  {
   "cell_type": "code",
   "execution_count": 25,
   "metadata": {},
   "outputs": [
    {
     "name": "stdout",
     "output_type": "stream",
     "text": [
      "a\n",
      "b\n",
      "True\n",
      "********************\n",
      "a\n",
      "True\n"
     ]
    }
   ],
   "source": [
    "# 短路问题 2\n",
    "\n",
    "def a ():\n",
    "    print(\"a\")\n",
    "    return True\n",
    "def b ():\n",
    "    print(\"b\")\n",
    "    return True\n",
    "\n",
    "aaa =  a() and b()\n",
    "print(aaa)\n",
    "# 字符串乘以数字，表示对这个字符串重复多少变\n",
    "print(\"*\" *20)\n",
    "\n",
    "bbb = a() or b ()  #短路发生\n",
    "print(bbb)"
   ]
  },
  {
   "cell_type": "markdown",
   "metadata": {},
   "source": [
    "# 成员运算符\n",
    "- 用来检测一个值或者变量是否在某个集合里面\n",
    "- in: 成员运算符\n",
    "- not in: 不在里边的意思"
   ]
  },
  {
   "cell_type": "code",
   "execution_count": 28,
   "metadata": {},
   "outputs": [
    {
     "name": "stdout",
     "output_type": "stream",
     "text": [
      "False\n",
      "True\n"
     ]
    }
   ],
   "source": [
    "# in \n",
    "\n",
    "L = [1,2,3,4,5,6]\n",
    "a = 7\n",
    "aa = a in L\n",
    "print(aa)\n",
    "\n",
    "# a 没有在L里面\n",
    "aa = a not in L\n",
    "print(aa)"
   ]
  },
  {
   "cell_type": "markdown",
   "metadata": {},
   "source": [
    "# 身份运算符\n",
    "- 用来确定两个变量是否是同一个变量\n",
    "- is:  变量运算符\n",
    "- is not:  不是\n",
    "- 对整数N \\in [-5,256] ,解释器会单独处理，放进单独的内存中，不因每次运行而变化"
   ]
  },
  {
   "cell_type": "code",
   "execution_count": 32,
   "metadata": {},
   "outputs": [
    {
     "name": "stdout",
     "output_type": "stream",
     "text": [
      "False\n",
      "False\n",
      "True\n"
     ]
    }
   ],
   "source": [
    "# 身份运算符\n",
    "a = 1\n",
    "b = 121365165\n",
    "\n",
    "aa = a is b\n",
    "print(aa)\n",
    "\n",
    "# a,b仅仅是值一样， 并不代表a,b是一个变量\n",
    "a = 121365165\n",
    "b = 121365165\n",
    "aa = a is b\n",
    "print(aa)\n",
    "# 小一点的数值 变量会指向python中准备好的空间，所以小的数的身份运算为True  小一点的数（-5~256）\n",
    "a = 5\n",
    "b = 5\n",
    "aa = a is b\n",
    "print(aa)"
   ]
  },
  {
   "cell_type": "markdown",
   "metadata": {},
   "source": [
    "# 运算符优先级\n",
    "- 小括号最优先   小括号嵌套从内往外算，多个从左往右算\n",
    "- ** 指数运算符\n",
    "- ~ + - 按位翻转， 一元加号和减号（+@  -@）  \n",
    "-  ，* ，/，  %，  //        乘,除，取余和取整除 \n",
    "-  +， - 加法减法\n",
    "-   《》  左移，右移运算符\n",
    "-  & 位 ‘AND’\n",
    "-  ^ | 位运算符\n",
    "- <= <> >= 比较运算符\n",
    "- <> == != 等于运算符\n",
    "- = %= /= //= -= += *= **=赋值运算符\n",
    "- is  is not身份运算符\n",
    "- in not in 成员运算符\n",
    "- not or and 逻辑运算符"
   ]
  },
  {
   "cell_type": "markdown",
   "metadata": {},
   "source": [
    "# 程序结构\n",
    "- c程序三种结构\n",
    "    - 顺序\n",
    "    - 循环\n",
    "    - 分支"
   ]
  },
  {
   "cell_type": "markdown",
   "metadata": {},
   "source": [
    "# 分支结构\n",
    "- 分支结构的基本语法\n",
    "      if 条件表达式:\n",
    "          语句1\n",
    "          语句2\n",
    "          语句3\n",
    "          ......\n",
    "- 条件表达式就是计算结果必须为布尔值的表达式\n",
    "- 表达式后面的冒号不能少\n",
    "- 注意if后面的出现的语句，如果属于if语句块，则必须同一缩进\n",
    "- 条件表达式的结果为True执行if 后面的缩进的语句块"
   ]
  },
  {
   "cell_type": "code",
   "execution_count": 40,
   "metadata": {},
   "outputs": [
    {
     "name": "stdout",
     "output_type": "stream",
     "text": [
      "大拿\n",
      "张\n",
      "加油\n",
      "大拿\n",
      "张\n",
      "加油\n"
     ]
    }
   ],
   "source": [
    "# if 语句联系\n",
    "# 如果你们都给我钱，我就发财了\n",
    "a = \"哈哈哈\"\n",
    "if a:\n",
    "    print(\"大拿\")\n",
    "    print(\"张\")\n",
    "print(\"加油\")\n",
    "\n",
    "# 字符串的真假\n",
    "# 只有空字符串为False, 其余全为True\n",
    "a = \"哈哈哈\"\n",
    "if a:\n",
    "    print(\"大拿\")\n",
    "    print(\"张\")\n",
    "else:\n",
    "    print(\"six\")\n",
    "print(\"加油\")"
   ]
  },
  {
   "cell_type": "code",
   "execution_count": 39,
   "metadata": {},
   "outputs": [
    {
     "name": "stdout",
     "output_type": "stream",
     "text": [
      "喝酒\n",
      "不能喝酒\n"
     ]
    }
   ],
   "source": [
    "# if案例二\n",
    "age = 24\n",
    "if age > 16:\n",
    "    print(\"喝酒\")\n",
    "print(\"不能喝酒\")"
   ]
  },
  {
   "cell_type": "markdown",
   "metadata": {},
   "source": [
    "# 双向分支\n",
    "- if...else...表达\n",
    "- 语法结构:\n",
    "           if 条件表达式:\n",
    "               语句1\n",
    "               语句2\n",
    "               \n",
    "               ...\n",
    "           else:\n",
    "               语句1\n",
    "               语句2\n",
    "               ...."
   ]
  },
  {
   "cell_type": "code",
   "execution_count": null,
   "metadata": {},
   "outputs": [],
   "source": [
    "# input的作用是\n",
    "# 1. 在屏幕上输出括号内的字符串\n",
    "# 2. 接受用户输入的内容并返回到程序\n",
    "# 3. input返回的内容一定是字符串类型\n",
    "\n",
    "# input 负责接受用户输入并把内容返回变量\n",
    "gender = input(\"你在干嘛\")\n",
    "#打印输入的内容\n",
    "print(gender)\n",
    "\n",
    "if gender == \"man\":\n",
    "    print(\"走\")\n",
    "    print(\"跑\")\n",
    "else:\n",
    "    print(\"飞\")\n",
    "    print(\"哈哈哈\")\n"
   ]
  },
  {
   "cell_type": "code",
   "execution_count": 2,
   "metadata": {},
   "outputs": [
    {
     "name": "stdout",
     "output_type": "stream",
     "text": [
      "成绩的级别95\n",
      "优秀\n"
     ]
    }
   ],
   "source": [
    "# input输入的是字符串类型\n",
    "a = input(\"成绩的级别\")\n",
    "a = int(a)\n",
    "if a> 90:\n",
    "    print(\"优秀\")\n",
    "if 80 <a<= 90:\n",
    "    print(\"良\")\n",
    "if 70 <a<= 80:\n",
    "    print(\"中\")\n",
    "if  60<=a<= 70:\n",
    "    print(\"及格\")\n",
    "if a< 60:\n",
    "    print(\"菜鸡\")\n"
   ]
  },
  {
   "cell_type": "markdown",
   "metadata": {},
   "source": [
    "# 多路分支\n",
    "- 很多分支的情况，叫多路分支\n",
    "       \n",
    "    if 条件表达式:\n",
    "        语句1\n",
    "        ......\n",
    "    elif 条件表达式:\n",
    "        语句1\n",
    "        ...\n",
    "    elif 条件表达式:\n",
    "        语句1\n",
    "        ...\n",
    "    else:\n",
    "        语句1\n",
    "        ... ...\n",
    "- elif 可以有好多个,根据实际情况\n",
    "- else 可选\n",
    "- 多路分支最多只会执行一种情况"
   ]
  },
  {
   "cell_type": "code",
   "execution_count": null,
   "metadata": {},
   "outputs": [],
   "source": [
    "a = input(\"成绩的级别\")\n",
    "a = int(a)\n",
    "if   a>= 90:\n",
    "    print(\"优秀\")\n",
    "elif a>= 80:\n",
    "    print(\"良\")\n",
    "elif a>= 70:\n",
    "    print(\"中\")\n",
    "elif  a>= 60:\n",
    "    print(\"及格\")\n",
    "else:\n",
    "    print(\"菜鸡\")"
   ]
  },
  {
   "cell_type": "markdown",
   "metadata": {},
   "source": [
    "# 循环语句\n",
    "- 重复执行某一个固定的动作或者任务\n",
    "- 分类\n",
    "    - for\n",
    "    - while\n",
    "# for循环\n",
    "- 语法\n",
    "        \n",
    "        for 变量 in 序列:\n",
    "            语句1\n",
    "            语句2\n",
    "            ..."
   ]
  },
  {
   "cell_type": "code",
   "execution_count": 3,
   "metadata": {},
   "outputs": [
    {
     "name": "stdout",
     "output_type": "stream",
     "text": [
      "1\n",
      "101\n",
      "1001\n",
      "2\n",
      "102\n",
      "1002\n",
      "3\n",
      "103\n",
      "1003\n",
      "4\n",
      "104\n",
      "1004\n",
      "5\n",
      "105\n",
      "1005\n",
      "6\n",
      "106\n",
      "1006\n",
      "7\n",
      "107\n",
      "1007\n"
     ]
    }
   ],
   "source": [
    "# 列表[1,2,3,4,5,6,7]\n",
    "list_one = [1,2,3,4,5,6,7]\n",
    "for number in list_one:\n",
    "    print(number)\n",
    "    print(number + 100)\n",
    "    print(number + 1000)"
   ]
  },
  {
   "cell_type": "code",
   "execution_count": 9,
   "metadata": {},
   "outputs": [
    {
     "name": "stdout",
     "output_type": "stream",
     "text": [
      "爱你哟\n",
      "不爱你\n",
      "不爱你\n",
      "不爱你\n"
     ]
    }
   ],
   "source": [
    "# 打印学生列姓名\n",
    "# 如果是轻灵，那么可定是我的最爱呀\n",
    "# 如果是别的学生，那么要冷库的拒绝\n",
    "\n",
    "stu_list = [\"轻灵\",\"丽丽\",\"静静\",\"桃桃\"]\n",
    "\n",
    "for stu in stu_list:\n",
    "    if stu == \"轻灵\":\n",
    "        print(\"爱你哟\")\n",
    "    else:\n",
    "        print(\"不爱你\")"
   ]
  },
  {
   "cell_type": "markdown",
   "metadata": {},
   "source": [
    "# for-else语句\n",
    "- for循环结束的时候，有时候需要执行一些收尾的工作，此时需要使用else语句\n",
    "- else语句是可选"
   ]
  },
  {
   "cell_type": "code",
   "execution_count": 11,
   "metadata": {},
   "outputs": [
    {
     "name": "stdout",
     "output_type": "stream",
     "text": [
      "爱你哟\n",
      "不爱你\n",
      "不爱你\n",
      "不爱你\n",
      "再见\n"
     ]
    }
   ],
   "source": [
    "# for-else语句\n",
    "# 打印列表中的同学\n",
    "# 如果没有在列表中，或者列表结束，我们需要打印提示语句，表示不爱了\n",
    "stu_list = [\"轻灵\",\"丽丽\",\"静静\",\"桃桃\"]\n",
    "\n",
    "for stu in stu_list:\n",
    "    if stu == \"轻灵\":\n",
    "        print(\"爱你哟\")\n",
    "    else:\n",
    "        print(\"不爱你\")\n",
    "else:\n",
    "    print(\"再见\")"
   ]
  },
  {
   "cell_type": "markdown",
   "metadata": {},
   "source": [
    "# break, continue, pass\n",
    "- break: 无条件结束整个循环，简称循环猝死\n",
    "- continue: 结束本轮循环 进行下一次循环\n",
    "- pass：  只是占位符号，代表这句话什么也不干，没有跳过功能"
   ]
  },
  {
   "cell_type": "code",
   "execution_count": 15,
   "metadata": {},
   "outputs": [
    {
     "name": "stdout",
     "output_type": "stream",
     "text": [
      "13\n",
      "5465\n",
      "56\n",
      "48\n",
      "找打了\n"
     ]
    }
   ],
   "source": [
    "# 确定一个数字队列中是否包含数字7\n",
    "# 确定是否包含，只要找到一个即可确定，不需要再继续往下找了，所以使用break\n",
    "\n",
    "dig_list = [13,5465,56,48,7,84,64,6541,3,7]\n",
    "\n",
    "for dig in dig_list:\n",
    "    if dig == 7:\n",
    "        print(\"找打了\")\n",
    "        break\n",
    "    else:\n",
    "        print(dig)"
   ]
  },
  {
   "cell_type": "code",
   "execution_count": 17,
   "metadata": {},
   "outputs": [
    {
     "name": "stdout",
     "output_type": "stream",
     "text": [
      "56\n",
      "双\n",
      "48\n",
      "双\n",
      "84\n",
      "双\n",
      "64\n",
      "双\n"
     ]
    }
   ],
   "source": [
    "# continue \n",
    "# 在数字1-10中,寻找所有偶数，找到偶数后打印偶数\n",
    "'''\n",
    "案例1\n",
    "\n",
    "dig_list = [13,5465,56,48,7,84,64,6541,3,7]\n",
    "for dig in dig_list:\n",
    "    if dig % 2 == 0:\n",
    "        print(dig)\n",
    "        print(\"双\")\n",
    "    else:\n",
    "        continue\n",
    " '''\n",
    "#等价上面代码\n",
    "dig_list = [13,5465,56,48,7,84,64,6541,3,7]\n",
    "for dig in dig_list:\n",
    "    if dig % 2 == 1:\n",
    "        continue\n",
    "    \n",
    "    print(dig)\n",
    "    print(\"双\")\n"
   ]
  },
  {
   "cell_type": "code",
   "execution_count": 21,
   "metadata": {},
   "outputs": [
    {
     "name": "stdout",
     "output_type": "stream",
     "text": [
      "你还小\n"
     ]
    }
   ],
   "source": [
    "# pass\n",
    "\n",
    "age = 19\n",
    "if age >19:\n",
    "    pass\n",
    "else:\n",
    "    print(\"你还小\")"
   ]
  },
  {
   "cell_type": "code",
   "execution_count": 24,
   "metadata": {},
   "outputs": [
    {
     "name": "stdout",
     "output_type": "stream",
     "text": [
      "2\n",
      "23\n",
      "54\n",
      "65\n"
     ]
    }
   ],
   "source": [
    "# pass2\n",
    "ages = [2,23,54,65]\n",
    "for age in ages:\n",
    "    pass\n",
    "    print(age)"
   ]
  },
  {
   "cell_type": "markdown",
   "metadata": {},
   "source": [
    "# range函数\n",
    "- 生成有序数列\n",
    "- 生成数字队列可以定制"
   ]
  },
  {
   "cell_type": "code",
   "execution_count": 31,
   "metadata": {},
   "outputs": [
    {
     "name": "stdout",
     "output_type": "stream",
     "text": [
      "1\n",
      "2\n",
      "3\n",
      "4\n",
      "5\n",
      "6\n",
      "7\n",
      "8\n",
      "9\n",
      "10\n"
     ]
    }
   ],
   "source": [
    "# range\n",
    "# 生成1到100的数字序列\n",
    "# range的生成序列的两个数字包括左不包括右\n",
    "dig_list = range(1,11)\n",
    "for dig in dig_list:\n",
    "    print(dig)\n",
    "# 一般python中,连个表示范围的数字都是左包括右不包括，randint函数是个特例\n",
    "# range函数在python2.x和python3.x中有严重区别"
   ]
  },
  {
   "cell_type": "markdown",
   "metadata": {},
   "source": [
    "# while循环\n",
    "- 一个循环语句\n",
    "- 表示当条件成立的时候，就循环，适应与不知道具体循环次数，但能确定某个条件只要成立就循环\n",
    "- while语法：\n",
    "\n",
    "        while 条件表达式：\n",
    "            语句块\n",
    "        另外一种表达式\n",
    "        while 条件表达式：\n",
    "            语句块1\n",
    "        else:\n",
    "            语句块2"
   ]
  },
  {
   "cell_type": "code",
   "execution_count": 37,
   "metadata": {
    "scrolled": true
   },
   "outputs": [
    {
     "name": "stdout",
     "output_type": "stream",
     "text": [
      "11\n",
      "17\n"
     ]
    }
   ],
   "source": [
    "# 如果说年利率是6.7%, 本利是每年翻滚，则多少年后本钱会翻倍\n",
    "\n",
    "benqian = 10000\n",
    "year = 0 #存放需要翻本的年数\n",
    "\n",
    "while benqian < 20000:\n",
    "    benqian = benqian * (1 + 0.067)\n",
    "    year += 1\n",
    "print(year)\n",
    "\n",
    "# 年利率\n",
    "# 本案例中循环体没有被执行，如何改正\n",
    "while benqian < 30000:\n",
    "    benqian = benqian * (1 + 0.067)\n",
    "    year += 1\n",
    "else:\n",
    "    print(year)"
   ]
  }
 ],
 "metadata": {
  "kernelspec": {
   "display_name": "Python 3",
   "language": "python",
   "name": "python3"
  },
  "language_info": {
   "codemirror_mode": {
    "name": "ipython",
    "version": 3
   },
   "file_extension": ".py",
   "mimetype": "text/x-python",
   "name": "python",
   "nbconvert_exporter": "python",
   "pygments_lexer": "ipython3",
   "version": "3.7.4"
  }
 },
 "nbformat": 4,
 "nbformat_minor": 2
}
