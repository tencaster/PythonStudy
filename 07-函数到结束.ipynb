{
 "cells": [
  {
   "cell_type": "markdown",
   "metadata": {},
   "source": [
    "# 四类参数\n",
    "- 普通参数\n",
    "- 默认参数\n",
    "- 关键字参数\n",
    "- 收集参数"
   ]
  },
  {
   "cell_type": "markdown",
   "metadata": {},
   "source": [
    "## 关键字参数\n",
    "- 语法\n",
    "    \n",
    "    def func(p1=v1,p2=v2,...)\n",
    "        func_body\n",
    "    调用函数\n",
    "    func(p1=vlaue1,p2=value2,...)\n",
    "- 比较麻烦，但也有好处：\n",
    "    - 不容易混淆，一般实参和形参，只是按照位置--一一对应，容易出错\n",
    "    - 使用关键字参数，可以不用考虑参数位置"
   ]
  },
  {
   "cell_type": "code",
   "execution_count": 63,
   "metadata": {},
   "outputs": [
    {
     "name": "stdout",
     "output_type": "stream",
     "text": [
      "i am a student\n",
      "我叫zhang,我今年jingjing岁，我住我家\n"
     ]
    }
   ],
   "source": [
    "\n",
    "def stu_key(name=\"No name\", age=0, addr=\"No addr\"):\n",
    "    print(\"i am a student\")\n",
    "    print(\"我叫{0},我今年{1}岁，我住{2}\".format(name,age,addr))\n",
    "\n",
    "# n = \"jingjing\"\n",
    "a = 18\n",
    "addr = \"我家\"\n",
    "stu(name, age=n, addr=addr)"
   ]
  },
  {
   "cell_type": "code",
   "execution_count": 62,
   "metadata": {
    "scrolled": true
   },
   "outputs": [
    {
     "name": "stdout",
     "output_type": "stream",
     "text": [
      "i am a student\n",
      "我叫jingjing,我今年18岁，我住我家\n"
     ]
    }
   ],
   "source": [
    "# 关键字参数\n",
    "def stu(name,age,addr):\n",
    "    print(\"i am a student\")\n",
    "    print(\"我叫{0},我今年{1}岁，我住{2}\".format(name,age,addr))\n",
    "\n",
    "n = \"jingjing\"\n",
    "a = 18\n",
    "addr = \"我家\"\n",
    "# 普通参数，只按照位置传递\n",
    "stu(n,a,addr)"
   ]
  },
  {
   "cell_type": "markdown",
   "metadata": {},
   "source": [
    "## 收集参数(可变参数)\n",
    "- 把没有位置，不能和定义时的参数位置相对应的参数，放到一个特定的数据结构中\n",
    "- 语法\n",
    "        \n",
    "        def func(*args):\n",
    "            func_body\n",
    "        调用\n",
    "        func(p1,p2,p3,p4,p5,p6,p7,...)\n",
    "- 参数名args不是必须这么写，如果没有特定要求建议写args\n",
    "- 参数名args前需要有 * \n",
    "- 收集参数可以和其他参数共存"
   ]
  },
  {
   "cell_type": "code",
   "execution_count": 9,
   "metadata": {},
   "outputs": [
    {
     "name": "stdout",
     "output_type": "stream",
     "text": [
      "hello,大家好，我自我介绍下，简单说两句\n",
      "<class 'tuple'>\n",
      "liuyang\n",
      "18\n",
      "北京海淀\n",
      "zero\n",
      "hello,大家好，我自我介绍下，简单说两句\n",
      "<class 'tuple'>\n",
      "张大神\n"
     ]
    }
   ],
   "source": [
    "# 收集参数\n",
    "# 函数模拟一个学生进行自我结束，但具体内容不清楚\n",
    "# args把他看成一个tuple(元组)\n",
    "def stu(*args):\n",
    "    print(\"hello,大家好，我自我介绍下，简单说两句\")\n",
    "    # type函数作用检测变量的类型\n",
    "    print(type(args))\n",
    "    for item in args:\n",
    "        print(item)\n",
    "\n",
    "stu(\"liuyang\", 18, \"北京海淀\", \"zero\")\n",
    "stu(\"张大神\")\n",
    "    "
   ]
  },
  {
   "cell_type": "code",
   "execution_count": 11,
   "metadata": {},
   "outputs": [
    {
     "name": "stdout",
     "output_type": "stream",
     "text": [
      "hello,大家好，我自我介绍下，简单说两句\n",
      "<class 'tuple'>\n"
     ]
    }
   ],
   "source": [
    "# 收集参数\n",
    "# 说明收集参数可以不带任何实参调用，此时收集参数为空tuple\n",
    "stu()"
   ]
  },
  {
   "cell_type": "code",
   "execution_count": 12,
   "metadata": {},
   "outputs": [
    {
     "ename": "TypeError",
     "evalue": "stu() got an unexpected keyword argument 'name'",
     "output_type": "error",
     "traceback": [
      "\u001b[1;31m---------------------------------------------------------------------------\u001b[0m",
      "\u001b[1;31mTypeError\u001b[0m                                 Traceback (most recent call last)",
      "\u001b[1;32m<ipython-input-12-9f013863a2e0>\u001b[0m in \u001b[0;36m<module>\u001b[1;34m\u001b[0m\n\u001b[0;32m      1\u001b[0m \u001b[1;31m# 如果使用关键字参数格式调用，会出现问题\u001b[0m\u001b[1;33m\u001b[0m\u001b[1;33m\u001b[0m\u001b[1;33m\u001b[0m\u001b[0m\n\u001b[1;32m----> 2\u001b[1;33m \u001b[0mstu\u001b[0m\u001b[1;33m(\u001b[0m\u001b[0mname\u001b[0m\u001b[1;33m=\u001b[0m\u001b[1;34m\"liuling\"\u001b[0m\u001b[1;33m)\u001b[0m\u001b[1;33m\u001b[0m\u001b[1;33m\u001b[0m\u001b[0m\n\u001b[0m",
      "\u001b[1;31mTypeError\u001b[0m: stu() got an unexpected keyword argument 'name'"
     ]
    }
   ],
   "source": [
    "# 如果使用关键字参数格式调用，会出现问题\n",
    "stu(name=\"liuling\")"
   ]
  },
  {
   "cell_type": "markdown",
   "metadata": {},
   "source": [
    "### 收集参数之关键字参数\n",
    "- 把关键字参数按字典格式存入收集参数\n",
    "- 语法\n",
    "        \n",
    "        def func(**kwargs):\n",
    "            func_body\n",
    "        # 调用\n",
    "              func(p1=v1,p2=v2,p3=v3,p4=v4,p5=v5,p6=v6,p7=v7...)\n",
    " - kwargs一般约定俗称\n",
    " - 调用的时候，把多余的关键字参数放入kwargs\n",
    " - 访问kwargs需要按字典格式访问\n",
    "            "
   ]
  },
  {
   "cell_type": "code",
   "execution_count": 20,
   "metadata": {},
   "outputs": [
    {
     "name": "stdout",
     "output_type": "stream",
     "text": [
      "hello,大家好，我先自我介绍下：\n",
      "<class 'dict'>\n",
      "name ... liuing\n",
      "age ... 19\n",
      "addr ... 北京海淀\n",
      "love ... me\n",
      "******************************\n",
      "hello,大家好，我先自我介绍下：\n",
      "<class 'dict'>\n",
      "name ... 张大神\n"
     ]
    }
   ],
   "source": [
    "# 收集参数\n",
    "# 自我结束\n",
    "# 调用时候需要使用关键字参数\n",
    "def stu( **kwargs):\n",
    "    # 咋爱函数体你没对于kwargs的使用不用带星号\n",
    "    print(\"hello,大家好，我先自我介绍下：\")\n",
    "    print(type(kwargs))\n",
    "    # 对于字典的访问，python2,python3中有区别\n",
    "    for k,v in kwargs.items():\n",
    "        print(k,\"...\",v)\n",
    "stu(name=\"liuing\", age=19, addr=\"北京海淀\", love=\"me\")\n",
    "print(\"*\" *30)\n",
    "stu(name=\"张大神\")"
   ]
  },
  {
   "cell_type": "code",
   "execution_count": 22,
   "metadata": {},
   "outputs": [
    {
     "name": "stdout",
     "output_type": "stream",
     "text": [
      "hello,大家好，我先自我介绍下：\n",
      "<class 'dict'>\n"
     ]
    }
   ],
   "source": [
    "# 收集参数可以为空\n",
    "stu()"
   ]
  },
  {
   "cell_type": "markdown",
   "metadata": {},
   "source": [
    "### 收集参数混合调用的顺序问题\n",
    "- 收集参数，关键字参数，普通参数可以混合使用\n",
    "- 使用规则。普通参数和关键字参数优先\n",
    "- 定义的时候一般普通参数，关键字参数，收集参数tuple,收集参数dict 顺序来定义"
   ]
  },
  {
   "cell_type": "code",
   "execution_count": 40,
   "metadata": {},
   "outputs": [
    {
     "name": "stdout",
     "output_type": "stream",
     "text": [
      "hellos,大家好\n",
      "我叫zhang， 我今年19大了\n",
      "我没有爱  好\n",
      "******************************\n",
      "**************************************************\n",
      "hellos,大家好\n",
      "我叫zhang， 我今年19大了\n",
      "我的爱好是学习\n",
      "******************************\n",
      "**************************************************\n",
      "hellos,大家好\n",
      "我叫zhang， 我今年19大了\n",
      "我的爱好是学习\n",
      "******************************\n",
      "python\n",
      "love\n",
      "**************************************************\n",
      "hooby1 *** python\n",
      "hobby2 *** test\n"
     ]
    }
   ],
   "source": [
    "# 收集参数混合\n",
    "# stu模拟一个学生的自我介绍\n",
    "def stu(name, age, *args, hobby=\"没有\", **kwargs):\n",
    "    print(\"hellos,大家好\")\n",
    "    print(\"我叫{0}， 我今年{1}大了\".format(name,age))\n",
    "    if hobby == \"没有\":\n",
    "        print(\"我没有爱  好\")\n",
    "    else:\n",
    "        print(\"我的爱好是{0}\".format(hobby))\n",
    "    print(\"*\" * 30)\n",
    "    \n",
    "    for i in args:\n",
    "        print(i)\n",
    "    print(\"*\" * 50)\n",
    "    for k,v in kwargs.items():\n",
    "        print(k,\"***\",v)\n",
    "        \n",
    "# 调用函数\n",
    "name = \"zhang\"\n",
    "age = 19\n",
    "\n",
    "stu(name,age)\n",
    "stu(name,age,hobby=\"学习\")\n",
    "stu(name,age,\"python\",\"love\",hobby=\"学习\",hooby1=\"python\",hobby2=\"test\")"
   ]
  },
  {
   "cell_type": "markdown",
   "metadata": {},
   "source": [
    "### 收集参数的解包问题\n",
    "- 把参数放入list或者dict中，直接把list/dict中的值放入收集参数中\n",
    "- 语法，案例"
   ]
  },
  {
   "cell_type": "code",
   "execution_count": 52,
   "metadata": {},
   "outputs": [
    {
     "name": "stdout",
     "output_type": "stream",
     "text": [
      "哈哈哈\n",
      "<class 'list'>\n",
      "0\n",
      "['liuxiang', 'zero', 200]\n",
      "哈哈哈\n",
      "<class 'str'>\n",
      "0\n",
      "liuxiang\n",
      "<class 'str'>\n",
      "1\n",
      "zero\n",
      "<class 'int'>\n",
      "2\n",
      "200\n"
     ]
    }
   ],
   "source": [
    "# 收集参数的解包问题\n",
    "\n",
    "def stu(*args):\n",
    "    print(\"哈哈哈\")\n",
    "    # n用来表示循环次数\n",
    "    # 主要用来调用\n",
    "    n = 0\n",
    "    for i in args:\n",
    "        print(type(i))\n",
    "        print(n)\n",
    "        n += 1\n",
    "        print(i)\n",
    "# stu(\"zhang\",\"liu\",19,200)\n",
    "\n",
    "l = [\"liuxiang\",\"zero\",200]\n",
    "stu(l)\n",
    "# 此时，args的表示形式是字典内一个lsit类型的元素，即arg= ([\"liuxiang\",\"zero\",200])\n",
    "# 很显然跟我们最初的想法违背\n",
    "#此时的调用，我们就需要解包符号，即调用的时候加个*\n",
    "stu(*l)"
   ]
  },
  {
   "cell_type": "markdown",
   "metadata": {},
   "source": [
    "### 同理，dict类型收集参数一样可以解包，但是\n",
    "- 对dict类型进行解包\n",
    "- 需要用两个星号进行解包"
   ]
  },
  {
   "cell_type": "markdown",
   "metadata": {},
   "source": [
    "# 函数文档\n",
    "- 函数的文档的作用是对当前函数提供使用相关的参考信息\n",
    "- 文档的写法：\n",
    "    - 在函数内部开始的第一行使用三个字符串定义副\n",
    "    - 一般具有特定格式\n",
    "    - 参考案例\n",
    "- 文档查看\n",
    "    - 使用help函数，如help(func)\n",
    "    - 使用__doc__,参考案例"
   ]
  },
  {
   "cell_type": "code",
   "execution_count": 55,
   "metadata": {},
   "outputs": [],
   "source": [
    "# 文档\n",
    "# 函数stu是模拟一个学生的自我介绍的内容\n",
    "def stu(name,age,*args):\n",
    "    \"\"\"\n",
    "    这是文档\n",
    "    \"\"\"\n",
    "    print(\"This is hanshu\")"
   ]
  },
  {
   "cell_type": "code",
   "execution_count": 57,
   "metadata": {},
   "outputs": [
    {
     "name": "stdout",
     "output_type": "stream",
     "text": [
      "Help on function stu in module __main__:\n",
      "\n",
      "stu(name, age, *args)\n",
      "    这是文档\n",
      "\n"
     ]
    },
    {
     "data": {
      "text/plain": [
       "'\\n    这是文档\\n    '"
      ]
     },
     "execution_count": 57,
     "metadata": {},
     "output_type": "execute_result"
    }
   ],
   "source": [
    "# 查看函数文档\n",
    "help(stu)\n",
    "stu.__doc__"
   ]
  }
 ],
 "metadata": {
  "kernelspec": {
   "display_name": "Python 3",
   "language": "python",
   "name": "python3"
  },
  "language_info": {
   "codemirror_mode": {
    "name": "ipython",
    "version": 3
   },
   "file_extension": ".py",
   "mimetype": "text/x-python",
   "name": "python",
   "nbconvert_exporter": "python",
   "pygments_lexer": "ipython3",
   "version": "3.7.4"
  }
 },
 "nbformat": 4,
 "nbformat_minor": 2
}
