{
 "cells": [
  {
   "cell_type": "markdown",
   "metadata": {},
   "source": [
    "# 字符串加变量"
   ]
  },
  {
   "cell_type": "markdown",
   "metadata": {},
   "source": [
    "# 字符串\n",
    "- 转义字符\n",
    "- 格式化\n",
    "- 内置函数（后延）\n",
    "\n",
    "## 转义字符\n",
    "- 用一个特殊的方法表示出一系类不方便写出的内容，比如回车键、换行键、退格键\n",
    "- 借助反斜杠字符，一般字符串中出现反斜杠，则反斜杠后面一个或几个字符表示已经不是原来的意思了，进行转义\n",
    "- 在字符串中，一旦出现反斜杠就要加倍小心，可能出现转义字符\n",
    "    - 回车\n",
    "    - windows: \\n   \n",
    "    - Linux: \\r\\n"
   ]
  },
  {
   "cell_type": "code",
   "execution_count": 3,
   "metadata": {},
   "outputs": [
    {
     "name": "stdout",
     "output_type": "stream",
     "text": [
      "i love python\n"
     ]
    }
   ],
   "source": [
    "s = \"i love %s\"\n",
    "print(s%\"python\")"
   ]
  },
  {
   "cell_type": "code",
   "execution_count": 11,
   "metadata": {},
   "outputs": [
    {
     "name": "stdout",
     "output_type": "stream",
     "text": [
      "Let's go\n",
      "Let's go\n",
      "C:\\user\n",
      "I love \r",
      " python\n"
     ]
    }
   ],
   "source": [
    "#如果想表示出Let's go\n",
    "#1.可以使用嵌套引号，即外层使用双引号\n",
    "#2. 转义字符\n",
    "\n",
    "s = \"Let's go\"\n",
    "print(s)\n",
    "# \\' = '\n",
    "ss = 'Let\\'s go'\n",
    "print(ss)\n",
    "# \\\\ =\\\n",
    "sss = \"C:\\\\user\"\n",
    "print(sss)\n",
    "\n",
    "# 回车换行   \\r    \\r\\n\n",
    "s1 = \"I love \\r python\"\n",
    "print(s1)"
   ]
  },
  {
   "cell_type": "markdown",
   "metadata": {},
   "source": [
    "## 字符串的格式\n",
    "- 把字符串按照一定格式打印或者填充\n",
    "- 格式化由两种方法\n",
    "    -利用百分号（%）\n",
    "    -利用format函数"
   ]
  },
  {
   "cell_type": "code",
   "execution_count": 1,
   "metadata": {},
   "outputs": [
    {
     "name": "stdout",
     "output_type": "stream",
     "text": [
      "zero 你好，欢迎进入图灵系统\n",
      "I love python\n"
     ]
    }
   ],
   "source": [
    "# s = \"xxx 你好， 欢迎进入图灵系统\"\n",
    "s = \"%s 你好，欢迎进入图灵系统\"\n",
    "print(s%\"zero\")\n",
    "print(\"I love %s\"%\"python\")"
   ]
  },
  {
   "cell_type": "markdown",
   "metadata": {},
   "source": [
    "### 利用百分号格式\n",
    "- 字符串中，利用%表示一个特殊的含义，表示对字符进行格式化\n",
    "- %d: 此处应该放入一个整数\n",
    "- %s: 表示此处应该放入一个字符串"
   ]
  },
  {
   "cell_type": "code",
   "execution_count": 3,
   "metadata": {},
   "outputs": [
    {
     "name": "stdout",
     "output_type": "stream",
     "text": [
      "I am 18 years old\n"
     ]
    }
   ],
   "source": [
    "s = \"I am %d years old\"\n",
    "print(s%18)"
   ]
  },
  {
   "cell_type": "code",
   "execution_count": 7,
   "metadata": {},
   "outputs": [
    {
     "name": "stdout",
     "output_type": "stream",
     "text": [
      "I am python, i am 18 years old\n"
     ]
    }
   ],
   "source": [
    "s = \"I am %s, i am %d years old\"\n",
    "# 注意一下表达的出错原因\n",
    "# 如果字符串中由占位符，则有几个占位符必须用几个实际内容来代替，或者一个都不要\n",
    "# print(s%\"python\",18)\n",
    "# 如果出现多个占位符，则相应内容需要括号括起来\n",
    "print(s%(\"python\",18))"
   ]
  },
  {
   "cell_type": "markdown",
   "metadata": {},
   "source": [
    "### format 函数格式化字符串\n",
    "- 直接用format函数进行格式化\n",
    "- 推荐使用这种方法\n",
    "- 使用上，以{}和： 代替%号，后面用format带参数完成"
   ]
  },
  {
   "cell_type": "code",
   "execution_count": 14,
   "metadata": {},
   "outputs": [
    {
     "name": "stdout",
     "output_type": "stream",
     "text": [
      "I love python\n",
      "Yes, i am 18 years old, I love python and i am 18 years old\n"
     ]
    }
   ],
   "source": [
    "s = \"I love {}\".format(\"python\")\n",
    "print(s)\n",
    "s = \"Yes, i am {1} years old, I love {0} and i am {1} years old\".format(\"python\",\"18\")\n",
    "print(s)"
   ]
  },
  {
   "cell_type": "markdown",
   "metadata": {},
   "source": [
    "## None\n",
    "- 表示什么都没有\n",
    "-如果函数没有返回值，可以返回None\n",
    "- 用来占位置\n",
    "- 用来接触变量的绑定"
   ]
  },
  {
   "cell_type": "markdown",
   "metadata": {},
   "source": [
    "# 表达式\n",
    "- 有一个或者几个数字或者变量和运算符组合成的一行代码\n",
    "- 通常会返回一个结果\n",
    "# 运算符\n",
    "- 由一个以上的值经过变化的到新值\n",
    "- 用于运算的符号叫运算符\n",
    "- 运算符分类：\n",
    "    - 算数运算符\n",
    "    - 比较或关系运算符\n",
    "    - 赋值运算符\n",
    "    - 位运算\n",
    "    - 逻辑运算符\n",
    "    - 成员运算符\n",
    "    - 身份运算符"
   ]
  },
  {
   "cell_type": "markdown",
   "metadata": {},
   "source": [
    "## 算数运算符\n",
    "- 进行算数运算的符号\n",
    "- python没有自增自减运算符"
   ]
  },
  {
   "cell_type": "code",
   "execution_count": 20,
   "metadata": {},
   "outputs": [
    {
     "name": "stdout",
     "output_type": "stream",
     "text": [
      "13\n",
      "45\n",
      "2.25\n",
      "1\n",
      "2\n",
      "6561\n",
      "27\n"
     ]
    }
   ],
   "source": [
    "# + - 跟正常算数运算符一模一样\n",
    "a = 9 + 3 + 5 - 4\n",
    "print(a)\n",
    "# 乘号用 (*) 号代替\n",
    "a = 9 * 5\n",
    "print(a)\n",
    "# 除号用斜杠（\\）代替\n",
    "#在python2.x 和pyhton3.x 中，除号（\\）结果不可能一致，此处以3为准\n",
    "a = 9 / 4\n",
    "print(a)\n",
    "\n",
    "# %取余运算\n",
    "# 两个数字相除应该商数有余\n",
    "# % 只会得到余数\n",
    "a = 9 % 4\n",
    "print(a)\n",
    "\n",
    "# // 表示取商运算符，也叫地板除\n",
    "a = 9 // 4\n",
    "print(a)\n",
    "\n",
    "# ** 表示幂运算\n",
    "a = 9 ** 4\n",
    "print(a)\n",
    "\n",
    "a = 3 ** 3\n",
    "print(a)"
   ]
  },
  {
   "cell_type": "markdown",
   "metadata": {},
   "source": [
    "## 比较运算符\n",
    "- 两个变量或者值进行比较的运算符\n",
    "- 比较的结果是布尔值，即True/False"
   ]
  },
  {
   "cell_type": "code",
   "execution_count": 24,
   "metadata": {},
   "outputs": [
    {
     "name": "stdout",
     "output_type": "stream",
     "text": [
      "False\n",
      "True\n"
     ]
    }
   ],
   "source": [
    "# == ，等于号\n",
    "#下列语句执行顺序是\n",
    "# 计算a == 80\n",
    "# 把结果放入b中\n",
    "a = 3 ** 4\n",
    "b = a == 80\n",
    "print(b)\n",
    "\n",
    "# != 不等于\n",
    "print( 9 != 8)\n",
    "\n",
    "# > 大于\n",
    "# < 小于\n",
    "# >= 大于等于\n",
    "# <= 小于等于"
   ]
  },
  {
   "cell_type": "markdown",
   "metadata": {},
   "source": [
    "## 赋值运算符"
   ]
  },
  {
   "cell_type": "code",
   "execution_count": 26,
   "metadata": {},
   "outputs": [],
   "source": [
    "# = ，赋值\n",
    "a = 0\n",
    "c = a = 4\n",
    "\n",
    "\n",
    "# += 是缩写\n",
    "a = 0 \n",
    "a += 7 # a = a + 7 的缩写\n",
    "\n",
    "# 所以数学运算符都要缩写形式\n",
    "# -=， *= ， /= , //=, %= , **= 都是缩写"
   ]
  },
  {
   "cell_type": "markdown",
   "metadata": {},
   "source": [
    "# 逻辑运算符\n",
    "- 对布尔值进行计算的符号\n",
    "- and逻辑与\n",
    "- or 逻辑或\n",
    "- not 逻辑非\n",
    "- python 中逻辑运算没有异或运算\n",
    "- 运算规则：\n",
    "    - and 看做乘法， or看做加法\n",
    "    - True看做1 ， False 看做0\n",
    "    - 逻辑运算符就能转换成整数数学运算\n",
    "    - 最后结果如果是0则为False, 否则为True\n",
    "- 逻辑运算的短路问题\n",
    "    - 罗晋运算式，按照运算顺序计算，一旦能够确认整个式子的未来值，则不在计算，直接返回"
   ]
  },
  {
   "cell_type": "code",
   "execution_count": 28,
   "metadata": {},
   "outputs": [
    {
     "name": "stdout",
     "output_type": "stream",
     "text": [
      "True\n",
      "True\n"
     ]
    }
   ],
   "source": [
    "# 逻辑运算符\n",
    "a = True\n",
    "b = False\n",
    "c = True\n",
    "\n",
    "# 以下式子等价于 d = 1 * 0 +1\n",
    "d = a and b or c\n",
    "print(d)\n",
    "\n",
    "d = a or b and a \n",
    "print(d)"
   ]
  },
  {
   "cell_type": "code",
   "execution_count": 30,
   "metadata": {},
   "outputs": [
    {
     "ename": "SyntaxError",
     "evalue": "invalid syntax (<ipython-input-30-ee92ed33acc5>, line 8)",
     "output_type": "error",
     "traceback": [
      "\u001b[1;36m  File \u001b[1;32m\"<ipython-input-30-ee92ed33acc5>\"\u001b[1;36m, line \u001b[1;32m8\u001b[0m\n\u001b[1;33m    a = a or  (b = 9) and 6\u001b[0m\n\u001b[1;37m                 ^\u001b[0m\n\u001b[1;31mSyntaxError\u001b[0m\u001b[1;31m:\u001b[0m invalid syntax\n"
     ]
    }
   ],
   "source": [
    "# 逻辑运算短路\n",
    "#下面的逻辑表达式，a的值一定时True,则运行到or的时候,整个表达式不在向下计算\n",
    "a = True or xxxx\n",
    "\n",
    "# 下面表达式，如果xx中包含赋值表达式，则结果很难预期\n",
    "# 代码事例\n",
    "b = 0\n",
    "a = a or  (b = 9) and 6\n",
    "# 嘉定上面表达式没有语法错误\n",
    "# 则b最终的值应该使0而不是9\n",
    "print(b)\n",
    "print(a)"
   ]
  },
  {
   "cell_type": "markdown",
   "metadata": {},
   "source": [
    "# 成员运算符\n",
    "- 用来检测一个变量是否是另一个变量成员\n",
    "- in\n",
    "- not in"
   ]
  },
  {
   "cell_type": "code",
   "execution_count": 32,
   "metadata": {},
   "outputs": [
    {
     "name": "stdout",
     "output_type": "stream",
     "text": [
      "False\n",
      "True\n",
      "False\n"
     ]
    }
   ],
   "source": [
    "# 案例\n",
    "l = [1,2,3,4,5]\n",
    "a = 7\n",
    "b = a in l\n",
    "print(b)\n",
    "\n",
    "a = 4\n",
    "print(a in l)\n",
    "print(a not in l)"
   ]
  },
  {
   "cell_type": "markdown",
   "metadata": {},
   "source": [
    "## 身份运算符\n",
    "- is 用来检测两个变量是否是同一个变量\n",
    "    - 语法就是 var1 is var2\n",
    "- is not: 两个变量不是同一个变量"
   ]
  },
  {
   "cell_type": "code",
   "execution_count": 35,
   "metadata": {},
   "outputs": [
    {
     "name": "stdout",
     "output_type": "stream",
     "text": [
      "True\n",
      "False\n"
     ]
    }
   ],
   "source": [
    "a = 9\n",
    "b = 9\n",
    "print(a is b)\n",
    "a = \"zero is not\"\n",
    "b = \"zero is not\"\n",
    "print(a is b)"
   ]
  },
  {
   "cell_type": "markdown",
   "metadata": {},
   "source": [
    "## 运算符的优先级问题\n",
    "\n",
    "- 小括号最优先   小括号嵌套从内往外算，多个从左往右算\n",
    "- ** 指数运算符\n",
    "- ~ + - 按位翻转， 一元加号和减号（+@  -@）  \n",
    "-  ，* ，/，  %，  //        乘,除，取余和取整除 \n",
    "-  +， - 加法减法\n",
    "-   《》  左移，右移运算符\n",
    "-  & 位 ‘AND’\n",
    "-  ^ | 位运算符\n",
    "- <= <> >= 比较运算符\n",
    "- <> == != 等于运算符\n",
    "- = %= /= //= -= += *= **=赋值运算符\n",
    "- is  is not身份运算符\n",
    "- in not in 成员运算符\n",
    "- not or and 逻辑运算符"
   ]
  },
  {
   "cell_type": "markdown",
   "metadata": {},
   "source": []
  }
 ],
 "metadata": {
  "kernelspec": {
   "display_name": "Python 3",
   "language": "python",
   "name": "python3"
  },
  "language_info": {
   "codemirror_mode": {
    "name": "ipython",
    "version": 3
   },
   "file_extension": ".py",
   "mimetype": "text/x-python",
   "name": "python",
   "nbconvert_exporter": "python",
   "pygments_lexer": "ipython3",
   "version": "3.7.4"
  }
 },
 "nbformat": 4,
 "nbformat_minor": 2
}
