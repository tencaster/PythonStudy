{
 "cells": [
  {
   "cell_type": "markdown",
   "metadata": {},
   "source": [
    "# str字符串\n",
    "\n",
    "- str\n",
    "- 转义字符\n",
    "- 格式化\n",
    "- 内建函数"
   ]
  },
  {
   "cell_type": "markdown",
   "metadata": {},
   "source": [
    "# 字符串\n",
    "- 表示文字信息\n",
    "- 用但因哈，双引号，三引号括起来"
   ]
  },
  {
   "cell_type": "code",
   "execution_count": 2,
   "metadata": {},
   "outputs": [
    {
     "name": "stdout",
     "output_type": "stream",
     "text": [
      "我要成为大牛\n"
     ]
    }
   ],
   "source": [
    "s = \"我要成为大牛\"\n",
    "print(s)"
   ]
  },
  {
   "cell_type": "code",
   "execution_count": 4,
   "metadata": {},
   "outputs": [
    {
     "name": "stdout",
     "output_type": "stream",
     "text": [
      "我正在努力\n"
     ]
    }
   ],
   "source": [
    "s = '我正在努力'\n",
    "print(s)"
   ]
  },
  {
   "cell_type": "code",
   "execution_count": 6,
   "metadata": {},
   "outputs": [
    {
     "name": "stdout",
     "output_type": "stream",
     "text": [
      "\n",
      " 我要成为大牛\n",
      " 我正在努力\n",
      " 坚持就是胜利\n",
      " 剩者为王\n",
      "\n"
     ]
    }
   ],
   "source": [
    "s = \"\"\"\n",
    " 我要成为大牛\n",
    " 我正在努力\n",
    " 坚持就是胜利\n",
    " 剩者为王\n",
    "\"\"\"\n",
    "print(s)"
   ]
  },
  {
   "cell_type": "markdown",
   "metadata": {},
   "source": [
    "# 转义字符\n",
    "- 用一个特殊的方法表示出一系列不方便写出的内容，比如回车键，换行符，退格键\n",
    "- 借助反斜杠字符，一旦字符串中出现反斜杠，则反斜杠后面一个或者几个字符已经不是原来的意思了，进行了转义\n",
    "- 在字符串中，一般出现反斜杠就要加倍小心，可能有转义字符出现\n",
    "- 不同系统对换行操作有不同的表示\n",
    "    - windows:  \\n\n",
    "    - Linux:  \\r\\n"
   ]
  },
  {
   "cell_type": "code",
   "execution_count": 16,
   "metadata": {},
   "outputs": [
    {
     "name": "stdout",
     "output_type": "stream",
     "text": [
      "Let's Go\n",
      "Let's Go\n",
      "C:\\Users\\Administrator\n",
      " i \n",
      " very  \n",
      " like \n",
      " study \n",
      " i\r\n",
      " very\r\n",
      " like\r\n",
      " study\n"
     ]
    }
   ],
   "source": [
    "# 转义字符\n",
    "# 想表达Let's Go\n",
    "# 使用转义字符\n",
    "s = 'Let\\'s Go'\n",
    "print(s)\n",
    "\n",
    "# 使用单双引号嵌套\n",
    "s = \"Let's Go\"\n",
    "print(s)\n",
    "\n",
    "# 表示斜杠\n",
    "# 比如表示C:\\Users\\Administrator\n",
    "s = \"C:\\\\Users\\\\Administrator\"\n",
    "print(s)\n",
    "\n",
    "\n",
    "#回车换行\n",
    "# windows下也可以使用\\r\\n,效果相同\n",
    "s = \" i \\n very  \\n like \\n study \"\n",
    "print(s)\n",
    "z = \" i\\r\\n very\\r\\n like\\r\\n study\"\n",
    "print(z)"
   ]
  },
  {
   "cell_type": "markdown",
   "metadata": {},
   "source": [
    "# 常用的转义字符\n",
    "-  \\(在行尾时)   续行符\n",
    "-  \\\\ 反斜杠符号\n",
    "-  \\\\' 单引号\n",
    "-  \\\\\" 双引号\n",
    "-  \\a 响铃\n",
    "-  \\b 退格\n",
    "-  \\e 转义\n",
    "-  \\000 空\n",
    "-  \\n 换行\n",
    "-  \\v 纵向制表符\n",
    "-  \\t 横向制表符\n",
    "-  \\r 回车\n",
    "-  \\f 换页\n",
    "-  \\oyy 八进制书,yy代表字符   例如：  \\o12代表行\n",
    "-  \\xyy 十六进制数,yy代表字符  例如   \\x0a代表换行\n",
    "-  \\other 其它的字符以普通格式输出"
   ]
  },
  {
   "cell_type": "code",
   "execution_count": 4,
   "metadata": {},
   "outputs": [
    {
     "name": "stdout",
     "output_type": "stream",
     "text": [
      "这是组参数\n"
     ]
    }
   ],
   "source": [
    "# 单个斜杠的用法\n",
    "# 在Python中，单个反斜杠表示此行未结束，出于美观，需要下一行继续\n",
    "#理论上应该写成def myDemo( x, y, z)\n",
    "def myDemo( x, \\\n",
    "            y, \\\n",
    "            z):\n",
    "    print(\"这是组参数\")\n",
    "myDemo(1,2,3)"
   ]
  },
  {
   "cell_type": "markdown",
   "metadata": {},
   "source": [
    "# 格式化\n",
    "- 把字符串按照一定格式进行打印或者填充\n",
    "- 格式化的分类\n",
    "    - 传统格式化\n",
    "    - format"
   ]
  },
  {
   "cell_type": "code",
   "execution_count": 6,
   "metadata": {},
   "outputs": [
    {
     "name": "stdout",
     "output_type": "stream",
     "text": [
      "zerozero\n",
      "onezero\n",
      "twozero\n"
     ]
    }
   ],
   "source": [
    "s = \"zerozero\"\n",
    "print(s)\n",
    "s = \"onezero\"\n",
    "print(s)\n",
    "s = \"twozero\"\n",
    "print(s)"
   ]
  },
  {
   "cell_type": "markdown",
   "metadata": {},
   "source": [
    "# 字符串的传统格式化方法\n",
    "- 使用%进行格式化\n",
    "- %（百分号）也叫占位符\n",
    "    - %s: 字符串\n",
    "    - %r: 字符串，但是使用repr而不是str\n",
    "    - %c: 整数转换为单个字符\n",
    "    - %d: 十进制整数\n",
    "    - %u: 无符号整数\n",
    "    - %o: 表示八进制\n",
    "    - %x: 十六进制，字母为小写（x为小写）\n",
    "    - %X: 十六进制，字母为小写（x为小写）\n",
    "    - %e: 浮点数（e为小写），例如2.87e+1\n",
    "    - %E: 浮点数（E为大写），例如2.87E+1\n",
    "    - %f,%F: 浮点数十进制形式\n",
    "    - %g,%G: 十进制形式浮点或者指数浮点自动转换\n",
    "    - 格式字符前出现整数表示此占位符所占位置的宽度\n",
    "    - 格式字符前边出现'-'表示左对齐\n",
    "    - 格式字符前边出现‘+’表示右对齐\n",
    "    - 0位数不足用‘0’不起\n",
    "    - width表示宽度\n",
    "    - pricision精度"
   ]
  },
  {
   "cell_type": "code",
   "execution_count": 12,
   "metadata": {},
   "outputs": [
    {
     "name": "stdout",
     "output_type": "stream",
     "text": [
      "I study python\n",
      "I study %s\n"
     ]
    }
   ],
   "source": [
    "# %s 表示一个简单的字符串\n",
    "# 占位符可以单独使用\n",
    "zero = \"I study %s\"\n",
    "print(zero%\"python\")\n",
    "\n",
    "print(zero)"
   ]
  },
  {
   "cell_type": "code",
   "execution_count": 15,
   "metadata": {},
   "outputs": [
    {
     "name": "stdout",
     "output_type": "stream",
     "text": [
      "I love python\n",
      "i love 100\n"
     ]
    }
   ],
   "source": [
    "# %s   %   \"\"       其中%后面的代表者替换前面的\n",
    "print(\"I love %s\"%\"python\")\n",
    "# 占位符一般只能被同类型替换，或者替换类型能被转换成占位符的类型\n",
    "# 以下案例属于特例\n",
    "print(\"i love %s\"%100)"
   ]
  },
  {
   "cell_type": "code",
   "execution_count": 20,
   "metadata": {},
   "outputs": [
    {
     "ename": "SyntaxError",
     "evalue": "invalid syntax (<ipython-input-20-869789d634f7>, line 4)",
     "output_type": "error",
     "traceback": [
      "\u001b[1;36m  File \u001b[1;32m\"<ipython-input-20-869789d634f7>\"\u001b[1;36m, line \u001b[1;32m4\u001b[0m\n\u001b[1;33m    print(%s\"19\")\u001b[0m\n\u001b[1;37m          ^\u001b[0m\n\u001b[1;31mSyntaxError\u001b[0m\u001b[1;31m:\u001b[0m invalid syntax\n"
     ]
    }
   ],
   "source": [
    "s = '我今年%d岁了，他长得很年轻'\n",
    "print(s%19)\n",
    "#以下打印会报错\n",
    "print(%s\"19\")"
   ]
  },
  {
   "cell_type": "code",
   "execution_count": 24,
   "metadata": {},
   "outputs": [
    {
     "name": "stdout",
     "output_type": "stream",
     "text": [
      "i am %fKG weight,%fm Heigh\n",
      "i am 76.400000KG weight,1.840000m Heigh\n",
      "i am 76.40KG weight,18.40m Heigh\n"
     ]
    }
   ],
   "source": [
    "s = \"i am %fKG weight,%fm Heigh\"\n",
    "print(s)\n",
    "# 如果需要格式化的信息多余一个，则用括号括起来就可以了\n",
    "# 以下但因使用了默认格式，多余打出了好多个零\n",
    "print(s%(76.4,1.84))\n",
    "\n",
    "# 实际需要进行格式化的信息的数量必须与百分号后面给出的数据数量匹配，否则保持\n",
    "# 如下例子，实际需要格式化的4处，但是给出数据为三个，则报错\n",
    "# 例如小数为的格式%号后跟.数  代表了几位，例如下\n",
    "s = \"i am %.2fKG weight,%.2fm Heigh\"\n",
    "print(s%(76.4,18.4))"
   ]
  },
  {
   "cell_type": "markdown",
   "metadata": {},
   "source": [
    "# format格式化\n",
    "- 使用函数形式进行格式化，代替以前的百分号"
   ]
  },
  {
   "cell_type": "code",
   "execution_count": 6,
   "metadata": {},
   "outputs": [
    {
     "name": "stdout",
     "output_type": "stream",
     "text": [
      "Hello world!\n",
      "Hello world!\n",
      "world world\n"
     ]
    },
    {
     "ename": "IndexError",
     "evalue": "tuple index out of range",
     "output_type": "error",
     "traceback": [
      "\u001b[1;31m---------------------------------------------------------------------------\u001b[0m",
      "\u001b[1;31mIndexError\u001b[0m                                Traceback (most recent call last)",
      "\u001b[1;32m<ipython-input-6-4e3c2bc979c1>\u001b[0m in \u001b[0;36m<module>\u001b[1;34m\u001b[0m\n\u001b[0;32m     11\u001b[0m \u001b[0mprint\u001b[0m\u001b[1;33m(\u001b[0m\u001b[0ms\u001b[0m\u001b[1;33m)\u001b[0m\u001b[1;33m\u001b[0m\u001b[1;33m\u001b[0m\u001b[0m\n\u001b[0;32m     12\u001b[0m \u001b[1;31m# 下面案例报错，跟上面案例进行对比\u001b[0m\u001b[1;33m\u001b[0m\u001b[1;33m\u001b[0m\u001b[1;33m\u001b[0m\u001b[0m\n\u001b[1;32m---> 13\u001b[1;33m \u001b[0ms\u001b[0m \u001b[1;33m=\u001b[0m \u001b[1;34m\"i love {0} and {1} loves me\"\u001b[0m\u001b[1;33m.\u001b[0m\u001b[0mformat\u001b[0m\u001b[1;33m(\u001b[0m\u001b[1;34m\"me\"\u001b[0m\u001b[1;33m)\u001b[0m\u001b[1;33m\u001b[0m\u001b[1;33m\u001b[0m\u001b[0m\n\u001b[0m\u001b[0;32m     14\u001b[0m \u001b[0mprint\u001b[0m\u001b[1;33m(\u001b[0m\u001b[0ms\u001b[0m\u001b[1;33m)\u001b[0m\u001b[1;33m\u001b[0m\u001b[1;33m\u001b[0m\u001b[0m\n",
      "\u001b[1;31mIndexError\u001b[0m: tuple index out of range"
     ]
    }
   ],
   "source": [
    "# 不用指定位置，按顺序读取\n",
    "#方式1\n",
    "s = \"{} {}!\"\n",
    "print(s.format(\"Hello\",\"world\"))\n",
    "#方式2\n",
    "s = \"{} {}!\".format(\"Hello\",\"world\")\n",
    "print(s)\n",
    "\n",
    "# 设置指定位置\n",
    "s = \"{1} {1}\".format(\"Hello\",\"world\")\n",
    "print(s)\n",
    "# 下面案例报错，跟上面案例进行对比\n",
    "s = \"i love {0} and {1} loves me\".format(\"me\")\n",
    "print(s)"
   ]
  },
  {
   "cell_type": "code",
   "execution_count": 8,
   "metadata": {},
   "outputs": [
    {
     "name": "stdout",
     "output_type": "stream",
     "text": [
      "我们是北京图灵学院，我们的网址是www.tulingxueyuan，tenzero最帅\n"
     ]
    }
   ],
   "source": [
    "# 使用命名参数\n",
    "s = \"我们是{school_name}，我们的网址是{url}，{student}最帅\"\n",
    "s = s.format(school_name = \"北京图灵学院\", url = \"www.tulingxueyuan\", student = \"tenzero\")\n",
    "print(s)"
   ]
  },
  {
   "cell_type": "code",
   "execution_count": 12,
   "metadata": {},
   "outputs": [
    {
     "name": "stdout",
     "output_type": "stream",
     "text": [
      "我们是北京图灵学院，我们的网址是www.tulingxueyuan，tenzero最帅\n"
     ]
    }
   ],
   "source": [
    "# 通过字典设置参数，需要解包\n",
    "s = \"我们是{school_name}，我们的网址是{url}，{student}最帅\"\n",
    "s_dict = {\"school_name\":\"北京图灵学院\",\\\n",
    "          \"url\":\"www.tulingxueyuan\",\\\n",
    "          \"student\":\"tenzero\"}\n",
    "#** 是解包操作\n",
    "s = s.format(**s_dict)\n",
    "print(s)"
   ]
  },
  {
   "cell_type": "code",
   "execution_count": 14,
   "metadata": {},
   "outputs": [
    {
     "name": "stdout",
     "output_type": "stream",
     "text": [
      "jZ is 1.84m heigh, 76.40KG weight\n"
     ]
    }
   ],
   "source": [
    "# 对数字的格式化需要用到\n",
    "s = \"jZ is {:.2f}m heigh, {:.2f}KG weight\"\n",
    "# 上面等于 s = \"jZ is {0:.2f}m heigh, {1:.2f}KG weight\"\n",
    "print(s.format(1.84,76.4))\n",
    "\n",
    "# ^ , <, >分别是居中、左对齐、右对齐，后面带宽度\n",
    "# ： 后面带填充的字符，只能是一个字符，不指定则默认是空格填充\n",
    "# + 表示在正数前显示+ ，负数前显示-； （空格）表示在正数前加空格\n",
    "# b、d、o、x 分别是二进制、十进制、八进制、十六进制\n",
    "# 此处我们可以使用大括号{}来转义大括号\n",
    "\n",
    "s = \"format函数是使用{}来进行占位的\"\n",
    "print(s.format(\"{}\"))"
   ]
  },
  {
   "cell_type": "markdown",
   "metadata": {},
   "source": [
    "# str内置函数\n",
    "### 查找类函数\n",
    "- 很多语言字符串使用string表示，但是python中str表示字符串\n",
    "- 字符串查找类，find,index,islower\n",
    "- find:查找字符串中是否包含一个子串\n",
    "- index:跟find的唯一区别是index如果找不到回引发异常\n",
    "- lfind,rfind:从左开始查找或者从右开始查找"
   ]
  },
  {
   "cell_type": "code",
   "execution_count": 4,
   "metadata": {},
   "outputs": [
    {
     "data": {
      "text/plain": [
       "-1"
      ]
     },
     "execution_count": 4,
     "metadata": {},
     "output_type": "execute_result"
    }
   ],
   "source": [
    "s = \"oneassison zerosaber tencaster\"\n",
    "s1 = \"zero\"\n",
    "# 返回第一次发现这个字符串的位置\n",
    "s.find(s1)\n",
    "\n",
    "# 返回-1表示没有找到\n",
    "s2 = \"three\"\n",
    "s.find(s2)"
   ]
  },
  {
   "cell_type": "code",
   "execution_count": 6,
   "metadata": {},
   "outputs": [
    {
     "name": "stdout",
     "output_type": "stream",
     "text": [
      "Help on built-in function find:\n",
      "\n",
      "find(...) method of builtins.str instance\n",
      "    S.find(sub[, start[, end]]) -> int\n",
      "    \n",
      "    Return the lowest index in S where substring sub is found,\n",
      "    such that sub is contained within S[start:end].  Optional\n",
      "    arguments start and end are interpreted as in slice notation.\n",
      "    \n",
      "    Return -1 on failure.\n",
      "\n"
     ]
    }
   ],
   "source": [
    "help(s.find)"
   ]
  },
  {
   "cell_type": "code",
   "execution_count": 9,
   "metadata": {},
   "outputs": [
    {
     "ename": "ValueError",
     "evalue": "substring not found",
     "output_type": "error",
     "traceback": [
      "\u001b[1;31m---------------------------------------------------------------------------\u001b[0m",
      "\u001b[1;31mValueError\u001b[0m                                Traceback (most recent call last)",
      "\u001b[1;32m<ipython-input-9-30978ea1893d>\u001b[0m in \u001b[0;36m<module>\u001b[1;34m\u001b[0m\n\u001b[0;32m      1\u001b[0m \u001b[0ms\u001b[0m\u001b[1;33m.\u001b[0m\u001b[0mindex\u001b[0m\u001b[1;33m(\u001b[0m\u001b[0ms1\u001b[0m\u001b[1;33m)\u001b[0m\u001b[1;33m\u001b[0m\u001b[1;33m\u001b[0m\u001b[0m\n\u001b[0;32m      2\u001b[0m \u001b[1;31m# index会报错或者引发异常\u001b[0m\u001b[1;33m\u001b[0m\u001b[1;33m\u001b[0m\u001b[1;33m\u001b[0m\u001b[0m\n\u001b[1;32m----> 3\u001b[1;33m \u001b[0ms\u001b[0m\u001b[1;33m.\u001b[0m\u001b[0mindex\u001b[0m\u001b[1;33m(\u001b[0m\u001b[0ms2\u001b[0m\u001b[1;33m)\u001b[0m\u001b[1;33m\u001b[0m\u001b[1;33m\u001b[0m\u001b[0m\n\u001b[0m",
      "\u001b[1;31mValueError\u001b[0m: substring not found"
     ]
    }
   ],
   "source": [
    "s.index(s1)\n",
    "# index会报错或者引发异常\n",
    "s.index(s2)"
   ]
  },
  {
   "cell_type": "code",
   "execution_count": 13,
   "metadata": {},
   "outputs": [
    {
     "data": {
      "text/plain": [
       "11"
      ]
     },
     "execution_count": 13,
     "metadata": {},
     "output_type": "execute_result"
    }
   ],
   "source": [
    "# 使用的时候还可以使用区间\n",
    "s = \"oneassison zerosaber tencaster\"\n",
    "s1 = \"zero\"\n",
    "\n",
    "# 从下标10开始查找，看是否能找到\n",
    "s.find(s1,10)"
   ]
  },
  {
   "cell_type": "markdown",
   "metadata": {},
   "source": [
    "### 判断类函数\n",
    "- 此类函数的特点是一般都以is开头，比如islower\n",
    "- isalpha:判断是否是字母，需要注意两点\n",
    "    - 1. 次函数默认的前提是字符串至少包含一个字符，如果没有，同样返回False\n",
    "    - 2. 汉子被认为是alpha,所以，次函数不能作为区分英语字母还是汉字的标识，区分中英文请使用nuicode码\n",
    "    - 注意使用区别，防止被坑\n",
    "- isdigit,isnumeric,isdecimal 三个判断数字的函数\n",
    "    - 此类函数不建议使用，在后期爬虫中，判断是否是数字建议采用正则表达式的方式\n",
    "    对这三个函数的一个总结：\n",
    "    - isdigit()\n",
    "        - True:Unicode数字，byte数字（单字节）\n",
    "        - False:汉子数字\n",
    "        - Error:无\n",
    "    - isdecimal()\n",
    "        - True:Unicode数字，全角数字（双字节）\n",
    "        - False:汉子数字，罗马数字\n",
    "        - Error:byte(单字节)\n",
    "    - isnumeric()\n",
    "        - True:Unicode数字，全角数字（双字节）,罗马数字，汉子数字\n",
    "        - False:无\n",
    "        - Error:byte(单字节)\n",
    "- islower:判断是否是大写或者小写"
   ]
  },
  {
   "cell_type": "code",
   "execution_count": 17,
   "metadata": {},
   "outputs": [
    {
     "name": "stdout",
     "output_type": "stream",
     "text": [
      "False\n",
      "False\n",
      "False\n"
     ]
    }
   ],
   "source": [
    "# 以下三个都不是，因为除了字母以外的空格\n",
    "s = \"oneassison zerosaber tencaster\"\n",
    "s1 = \"我要成为大牛， 啊啊啊啊\"\n",
    "s2 = \"Python anaconda Pycharm\"\n",
    "\n",
    "print(s.isalpha())\n",
    "print(s1.isalpha())\n",
    "print(s2.isalpha())"
   ]
  },
  {
   "cell_type": "code",
   "execution_count": 19,
   "metadata": {},
   "outputs": [
    {
     "name": "stdout",
     "output_type": "stream",
     "text": [
      "False\n",
      "True\n",
      "False\n"
     ]
    }
   ],
   "source": [
    "# 需要注意的是，因为输入法的问题，输入罗马数字可能得不到我们想要的结果\n",
    "chin_num = \"一二三四\"\n",
    "print(chin_num.isdigit())\n",
    "print(chin_num.isnumeric())\n",
    "print(chin_num.isdecimal())"
   ]
  },
  {
   "cell_type": "code",
   "execution_count": 22,
   "metadata": {},
   "outputs": [
    {
     "name": "stdout",
     "output_type": "stream",
     "text": [
      "<built-in method islower of str object at 0x0000020E592FABC0>\n"
     ]
    }
   ],
   "source": [
    "s2 = \"python anaconda pycharm\"\n",
    "print(s2.islower)"
   ]
  },
  {
   "cell_type": "markdown",
   "metadata": {},
   "source": [
    "### 内容判断类\n",
    "- startswith/endswith:是否以xxx开头或者结尾\n",
    "    - 检测某个字符串是否以某个子串开头，常用三个参数\n",
    "    - suffix:被检查的字符串，必须有\n",
    "    - start: 检查范围的开始范围\n",
    "    - end: 检查范围的结尾范围\n",
    "- islower/isupper:判断字符串是否是大写或者小写"
   ]
  },
  {
   "cell_type": "code",
   "execution_count": 31,
   "metadata": {},
   "outputs": [
    {
     "name": "stdout",
     "output_type": "stream",
     "text": [
      "True\n",
      "True\n"
     ]
    }
   ],
   "source": [
    "s = \"Python anaconda Pycharm\"\n",
    "s1 = \"Python\"\n",
    "s2 = \"Pycharm\"\n",
    "print(s.startswith(s1))\n",
    "print(s.endswith(s2))"
   ]
  },
  {
   "cell_type": "code",
   "execution_count": 36,
   "metadata": {},
   "outputs": [
    {
     "name": "stdout",
     "output_type": "stream",
     "text": [
      "False\n",
      "False\n",
      "True\n",
      "True\n",
      "False\n",
      "False\n"
     ]
    }
   ],
   "source": [
    "s = \"Python anaconda Pycharm\"\n",
    "s1 = \"PythonanacondaPycharm\"\n",
    "s2 = \"pythonanacondapycharm\"\n",
    "# s3包含空格，但空格不影响结果，忽略\n",
    "s3 = \"python anaconda pycharm\"\n",
    "s4 = \"我要成为大牛\"\n",
    "print(s.islower())\n",
    "print(s1.islower())\n",
    "print(s2.islower())\n",
    "print(s3.islower())\n",
    "# 汉子字符串无大小写概念\n",
    "print(s4.islower())\n",
    "print(s4.isupper())"
   ]
  },
  {
   "cell_type": "markdown",
   "metadata": {},
   "source": [
    "### 操作类函数\n",
    "- format:格式化用的\n",
    "- strip:这个函数主要作用是删除字符串两边空格，其实这个函数允许你去定义删除字符串两边的那个字符，只不过如果不指定的话默认是空格，同样还有lstrip和rstrip,此处的删除不是删除一个，是指从开头开始符合条件的连续字符。\n",
    "- strip相似的函数还包含lstrip,rstrip\n",
    "- join:这个函数主要对字符串进行拼接。它需要一个可以迭代的内容作为参数，功能是可迭代的字符的字符串拼接在一起，中间使用调用字符串作为分隔符"
   ]
  },
  {
   "cell_type": "code",
   "execution_count": 50,
   "metadata": {},
   "outputs": [
    {
     "name": "stdout",
     "output_type": "stream",
     "text": [
      "ZZZZZhang love pyhton\n",
      "\n",
      "ZZZZZhang love pyhton--------------\n",
      "hang love pyhton  \n",
      "\n",
      "hang love pyhton  ------"
     ]
    }
   ],
   "source": [
    "c = \"ZZZZZhang love pyhton  \"\n",
    "# 是否成功删除两边空格不能观察出来\n",
    "print(c.strip())\n",
    "print()\n",
    "print(c.strip(),end = \"------\")\n",
    "\n",
    "\n",
    "print(\"--------\")\n",
    "print(c.strip(\"Z\"))\n",
    "print()\n",
    "print(c.strip(\"Z\"),end = \"------\")\n",
    "\n"
   ]
  },
  {
   "cell_type": "code",
   "execution_count": 51,
   "metadata": {},
   "outputs": [
    {
     "name": "stdout",
     "output_type": "stream",
     "text": [
      "zerosaber$tencaster$zhangjt$python\n",
      "zerosaber-tencaster-zhangjt-python\n",
      "zerosaber tencaster zhangjt python\n"
     ]
    }
   ],
   "source": [
    "# join例子，我们需要使用s1,s2,s3作为分隔符 ，把ss内的内容拼接起来\n",
    "s1 = \"$\"\n",
    "s2 = \"-\"\n",
    "s3 = \" \"\n",
    "ss = [\"zerosaber\",\"tencaster\",\"zhangjt\",\"python\"]\n",
    "print(s1.join(ss))\n",
    "print(s2.join(ss))\n",
    "print(s3.join(ss))"
   ]
  }
 ],
 "metadata": {
  "kernelspec": {
   "display_name": "Python 3",
   "language": "python",
   "name": "python3"
  },
  "language_info": {
   "codemirror_mode": {
    "name": "ipython",
    "version": 3
   },
   "file_extension": ".py",
   "mimetype": "text/x-python",
   "name": "python",
   "nbconvert_exporter": "python",
   "pygments_lexer": "ipython3",
   "version": "3.7.4"
  }
 },
 "nbformat": 4,
 "nbformat_minor": 2
}
