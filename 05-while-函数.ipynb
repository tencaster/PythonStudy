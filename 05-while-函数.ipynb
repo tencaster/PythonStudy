{
 "cells": [
  {
   "cell_type": "markdown",
   "metadata": {},
   "source": [
    "# while 循环\n",
    "- 一个循环语句\n",
    "- 表示当某条件成立的时候，就循环\n",
    "- 不知道具体循环次数，但能确定循环的条件成立的时候使用while循环\n",
    "- while语法：\n",
    "    \n",
    "        while 条件表达式:\n",
    "            语句块\n",
    "        #另外一种表达方式:\n",
    "            语句块1\n",
    "        else:\n",
    "            语句块2"
   ]
  },
  {
   "cell_type": "code",
   "execution_count": 7,
   "metadata": {},
   "outputs": [
    {
     "name": "stdout",
     "output_type": "stream",
     "text": [
      "第1年拿了106700.00块钱\n",
      "第2年拿了113848.90块钱\n",
      "第3年拿了121476.78块钱\n",
      "第4年拿了129615.72块钱\n",
      "第5年拿了138299.97块钱\n",
      "第6年拿了147566.07块钱\n",
      "第7年拿了157453.00块钱\n",
      "第8年拿了168002.35块钱\n",
      "第9年拿了179258.51块钱\n",
      "第10年拿了191268.83块钱\n",
      "第11年拿了204083.84块钱\n"
     ]
    }
   ],
   "source": [
    "# 如果说年利率是6.7%，本利是每年翻滚，则多少年后本钱会翻倍\n",
    "# '{:.2f}'.format(i)   会吧数字转换为两位小数\n",
    "year = 0\n",
    "benqian = 100000\n",
    "while benqian < 200000:\n",
    "        benqian = benqian * (1+0.067)\n",
    "        zero = '{:.2f}'.format(benqian)\n",
    "        year += 1  #year = year + 1\n",
    "        print(\"第{0}年拿了{1}块钱\".format(year,zero))"
   ]
  },
  {
   "cell_type": "code",
   "execution_count": 7,
   "metadata": {},
   "outputs": [
    {
     "name": "stdout",
     "output_type": "stream",
     "text": [
      "第1年拿了106700.00块钱\n",
      "第2年拿了113848.90块钱\n",
      "第3年拿了121476.78块钱\n",
      "第4年拿了129615.72块钱\n",
      "第5年拿了138299.97块钱\n",
      "第6年拿了147566.07块钱\n",
      "第7年拿了157453.00块钱\n",
      "第8年拿了168002.35块钱\n",
      "第9年拿了179258.51块钱\n",
      "第10年拿了191268.83块钱\n",
      "第11年拿了204083.84块钱\n",
      "哈哈哈哈哈哈\n"
     ]
    }
   ],
   "source": [
    "# 如果说年利率是6.7%，本利是每年翻滚，则多少年后本钱会翻倍\n",
    "# 如果拿到的钱翻倍，则用print庆祝一下\n",
    "year = 0\n",
    "benqian = 100000\n",
    "while benqian < 200000:\n",
    "        benqian = benqian * (1+0.067)\n",
    "        year += 1  #year = year + 1\n",
    "        print(\"第{0}年拿了{1:.2f}块钱\".format(year,benqian))\n",
    "        # 格式化当前数变成两位小数，需要在位数后面加 :.2f\n",
    "else:\n",
    "    print(\"哈哈哈哈哈哈\")"
   ]
  },
  {
   "cell_type": "markdown",
   "metadata": {},
   "source": [
    "# 函数\n",
    "- 代码的一种组织形式\n",
    "- 一个函数一般完成一项特定的功能\n",
    "- 函数的定义\n",
    "    - 函数需要先定义\n",
    "    - 使用函数，俗称调用"
   ]
  },
  {
   "cell_type": "code",
   "execution_count": 16,
   "metadata": {},
   "outputs": [],
   "source": [
    "# 定义一个函数\n",
    "# 只是定义的话不会执行\n",
    "# 1. def关键字，后跟一个空格\n",
    "# 2. 函数名，自己定义，起名需要准寻变量命名规则，约定俗成，大驼峰命名只给类使用\n",
    "# 3. 后面括号和冒号不能省，括号内可以有参数\n",
    "# 4. 函数内所有代码缩进\n",
    "# 5. 是否属于函数内需要看缩进，只要在函数内有一个规格的缩进都属于这个函数的代码\n",
    "def fun():\n",
    "    print(\"定义一个函数\")\n",
    "    print(\"我要完成一定功能\")"
   ]
  },
  {
   "cell_type": "code",
   "execution_count": 18,
   "metadata": {},
   "outputs": [
    {
     "name": "stdout",
     "output_type": "stream",
     "text": [
      "定义一个函数\n",
      "我要完成一定功能\n"
     ]
    }
   ],
   "source": [
    "# 还是的调用\n",
    "# 直接函数名后面跟括号，如何函数定义内有函数，那么掉用时必须有参数且跟函数内的参数数量相同\n",
    "\n",
    "fun()"
   ]
  },
  {
   "cell_type": "markdown",
   "metadata": {},
   "source": [
    "### 函数的参数和返回值\n",
    "- 参数 负责给函数传递一些必要的数据或者信息\n",
    "    - 形参（形式参数）：在函数定义的时候用到参数没有具体值，知识一个占位符，成为形参\n",
    "    - 实参（实际参数）： 在调用函数时输入的值\n",
    "- 返回值：函数的执行结果\n",
    "    - 使用return关键字\n",
    "    - 如果没有return,默认返回一个None\n",
    "    - 函数一旦执行return语句，则无条件返回，即结束函数的执行"
   ]
  },
  {
   "cell_type": "code",
   "execution_count": 22,
   "metadata": {},
   "outputs": [
    {
     "name": "stdout",
     "output_type": "stream",
     "text": [
      "明月, 你怎么了\n",
      "str, 你不理我我就走\n"
     ]
    }
   ],
   "source": [
    "# 参数的定义和使用\n",
    "# 参数person只是一个符号，代表的是调用的时候的某一个数据\n",
    "# 调用的时候，会用p的值代替函数中所有的person\n",
    "def hello(person):\n",
    "    print(\"{0}, 你怎么了\".format(person))\n",
    "    print(\"str, 你不理我我就走\")\n",
    "p = \"明月\"\n",
    "hello(p)"
   ]
  },
  {
   "cell_type": "code",
   "execution_count": 10,
   "metadata": {},
   "outputs": [
    {
     "name": "stdout",
     "output_type": "stream",
     "text": [
      "明月, 你怎么了\n",
      "str, 你不理我我就走了\n",
      "我一进跟明月打招呼了，明月不理我\n"
     ]
    }
   ],
   "source": [
    "# 参数的定义和使用\n",
    "# 函数打完招呼后返回一句话\n",
    "def hello(person):\n",
    "    print(\"{0}, 你怎么了\".format(person))\n",
    "    print(\"str, 你不理我我就走了\")\n",
    "    return \"我一进跟{0}打招呼了，{1}不理我\".format(person,person)\n",
    "z = \"明月\"\n",
    "srt = hello(z)\n",
    "print(srt)"
   ]
  },
  {
   "cell_type": "code",
   "execution_count": 14,
   "metadata": {},
   "outputs": [
    {
     "name": "stdout",
     "output_type": "stream",
     "text": [
      "zero, 你怎么了\n",
      "哈哈哈，我走啦，不理你了\n"
     ]
    }
   ],
   "source": [
    "# 参数的定义和使用\n",
    "def hello(person):\n",
    "    print(\"{0}, 你怎么了\".format(person))\n",
    "    return \"哈哈哈，我走啦，不理你了\"\n",
    "    print(\"str, 你不理我我就走了\")\n",
    "    return \"我一进跟{0}打招呼了，{1}不理我\".format(person,person)\n",
    "p = \"zero\"\n",
    "rst = hello(p)\n",
    "print(rst)"
   ]
  },
  {
   "cell_type": "code",
   "execution_count": 37,
   "metadata": {},
   "outputs": [
    {
     "name": "stdout",
     "output_type": "stream",
     "text": [
      "1 \n",
      "2 4 \n",
      "3 6 9 \n",
      "4 8 12 16 \n",
      "5 10 15 20 25 \n",
      "6 12 18 24 30 36 \n",
      "7 14 21 28 35 42 49 \n",
      "8 16 24 32 40 48 56 64 \n",
      "9 18 27 36 45 54 63 72 81 \n"
     ]
    }
   ],
   "source": [
    "# 九九乘法表\n",
    "for i in range(1,10):\n",
    "    # 打印一行\n",
    "    for j in range(1,i + 1):\n",
    "        # print函数默认打印完毕后换行， end = \"\" 不换行\n",
    "        print(i*j,end = \" \")\n",
    "    print()"
   ]
  },
  {
   "cell_type": "code",
   "execution_count": 38,
   "metadata": {},
   "outputs": [
    {
     "name": "stdout",
     "output_type": "stream",
     "text": [
      "Help on built-in function print in module builtins:\n",
      "\n",
      "print(...)\n",
      "    print(value, ..., sep=' ', end='\\n', file=sys.stdout, flush=False)\n",
      "    \n",
      "    Prints the values to a stream, or to sys.stdout by default.\n",
      "    Optional keyword arguments:\n",
      "    file:  a file-like object (stream); defaults to the current sys.stdout.\n",
      "    sep:   string inserted between values, default a space.\n",
      "    end:   string appended after the last value, default a newline.\n",
      "    flush: whether to forcibly flush the stream.\n",
      "\n"
     ]
    }
   ],
   "source": [
    "# 查找函数帮助文档\n",
    "# 1. 用help函数\n",
    "help(print)"
   ]
  },
  {
   "cell_type": "code",
   "execution_count": 43,
   "metadata": {},
   "outputs": [
    {
     "name": "stdout",
     "output_type": "stream",
     "text": [
      "1 \n",
      "2 4 \n",
      "3 6 9 \n",
      "4 8 12 16 \n",
      "5 10 15 20 25 \n",
      "6 12 18 24 30 36 \n",
      "7 14 21 28 35 42 49 \n",
      "8 16 24 32 40 48 56 64 \n",
      "9 18 27 36 45 54 63 72 81 \n"
     ]
    }
   ],
   "source": [
    "# 定义一个函数，打印一行九九乘法表\n",
    "def printLine(i):\n",
    "    for j in range(1,i + 1):\n",
    "        # print函数默认打印完毕后换行， end = \"\" 不换行\n",
    "        print(i*j,end = \" \")\n",
    "    print()\n",
    "for i in range(1,10):\n",
    "    printLine(i)"
   ]
  },
  {
   "cell_type": "markdown",
   "metadata": {},
   "source": [
    "# 参数详解\n",
    "- [参考资料]（www.cnblogs.com/bingabcd/p/6671368.html）\n",
    "- python参考资料: headfirst python ->零基础入门学习python(小甲鱼)\n",
    "--> 公开课\n",
    "- 参数分类\n",
    "    - 普通参数\n",
    "    - 默认参数\n",
    "    - 关键字参数\n",
    "    - 收集参数\n",
    "- 普通参数\n",
    "    - c 参见上例\n",
    "    - 定义的时候直接定义变量名\n",
    "    - 调用的时候直接把变量或者值放入指定位置\n",
    "    \n",
    "                def 函数名（参数1，参数2，...）\n",
    "                \n",
    "                # 调用\n",
    "                函数名（value,value2,......）\n",
    "                \n",
    "                #调用的时候，具体值参考的是位置，按位置赋值\n",
    "                \n",
    "- 默认参数\n",
    "    - 形参待遇默认值\n",
    "    - 调用的时候，如果没有对应形参赋值，则使用默认值\n",
    "            \n",
    "            def func_name(p1 = v1 , p2 = v2, ...)\n",
    "                func_block\n",
    "            # 调用1\n",
    "            func_name()\n",
    "            \n",
    "            #调用2\n",
    "            value1 = 100\n",
    "            value2 = 200\n",
    "            func_name(value1,value2)"
   ]
  },
  {
   "cell_type": "code",
   "execution_count": 2,
   "metadata": {},
   "outputs": [],
   "source": [
    "#默认参数\n",
    "# 报名函数，需要知道学生性别\n",
    "#学习python的学生基本都是男生，所以报名的时候如果没有特别指定，那么是男生\n",
    "def reg (name, age,gender = \"male\"):\n",
    "    if gender == \"male\":\n",
    "        print(\"{0} is {1},and he is a good student\".format(name,age))\n",
    "    else:\n",
    "        print(\"{0} is {1},and she is a good student\".format(name,age))\n",
    "    "
   ]
  },
  {
   "cell_type": "code",
   "execution_count": 3,
   "metadata": {},
   "outputs": [
    {
     "name": "stdout",
     "output_type": "stream",
     "text": [
      "mingyue is 21,and he is a good student\n",
      "xiaoyue is 23,and she is a good student\n"
     ]
    }
   ],
   "source": [
    "# 调用默认参数函数\n",
    "\n",
    "reg(\"mingyue\",21)\n",
    "reg(\"xiaoyue\",23,\"gilr\")"
   ]
  },
  {
   "cell_type": "code",
   "execution_count": 9,
   "metadata": {},
   "outputs": [
    {
     "name": "stdout",
     "output_type": "stream",
     "text": [
      "hello tanggu 先生 ,welcome to python world!\n"
     ]
    }
   ],
   "source": [
    "# 位置参数\n",
    "### 调用函数时根据函数定义的参数位置来传递参数\n",
    "def print_hello(name,sex):\n",
    "    sex_dict = {1:u\"先生\",2:u\"女士\"}\n",
    "    print ('hello %s %s ,welcome to python world!' %(name,sex_dict.get(sex,u\"先生\")))\n",
    "### 两个参数的顺序必须一一对应，且不能少任何一个\n",
    "print_hello(\"tanggu\",1)"
   ]
  },
  {
   "cell_type": "code",
   "execution_count": 14,
   "metadata": {},
   "outputs": [
    {
     "ename": "NameError",
     "evalue": "name 'get' is not defined",
     "output_type": "error",
     "traceback": [
      "\u001b[1;31m---------------------------------------------------------------------------\u001b[0m",
      "\u001b[1;31mNameError\u001b[0m                                 Traceback (most recent call last)",
      "\u001b[1;32m<ipython-input-14-a7afce75ca19>\u001b[0m in \u001b[0;36m<module>\u001b[1;34m\u001b[0m\n\u001b[1;32m----> 1\u001b[1;33m \u001b[0mhelp\u001b[0m\u001b[1;33m(\u001b[0m\u001b[0mget\u001b[0m\u001b[1;33m)\u001b[0m\u001b[1;33m\u001b[0m\u001b[1;33m\u001b[0m\u001b[0m\n\u001b[0m",
      "\u001b[1;31mNameError\u001b[0m: name 'get' is not defined"
     ]
    }
   ],
   "source": []
  }
 ],
 "metadata": {
  "kernelspec": {
   "display_name": "Python 3",
   "language": "python",
   "name": "python3"
  },
  "language_info": {
   "codemirror_mode": {
    "name": "ipython",
    "version": 3
   },
   "file_extension": ".py",
   "mimetype": "text/x-python",
   "name": "python",
   "nbconvert_exporter": "python",
   "pygments_lexer": "ipython3",
   "version": "3.7.4"
  }
 },
 "nbformat": 4,
 "nbformat_minor": 2
}
