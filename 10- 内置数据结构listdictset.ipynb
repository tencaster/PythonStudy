{
 "cells": [
  {
   "cell_type": "markdown",
   "metadata": {},
   "source": [
    "# 关于元组的函数\n",
    "- 以下函数，对list基本适用"
   ]
  },
  {
   "cell_type": "code",
   "execution_count": 4,
   "metadata": {},
   "outputs": [
    {
     "data": {
      "text/plain": [
       "5"
      ]
     },
     "execution_count": 4,
     "metadata": {},
     "output_type": "execute_result"
    }
   ],
   "source": [
    "# len:获取元组的长度\n",
    "t = (1,2,3,4,5)\n",
    "len(t)"
   ]
  },
  {
   "cell_type": "code",
   "execution_count": 6,
   "metadata": {},
   "outputs": [
    {
     "name": "stdout",
     "output_type": "stream",
     "text": [
      "5\n",
      "1\n"
     ]
    }
   ],
   "source": [
    "# max,min: 最大最小值\n",
    "print(max(t))\n",
    "print(min(t))"
   ]
  },
  {
   "cell_type": "code",
   "execution_count": 7,
   "metadata": {},
   "outputs": [],
   "source": [
    "# 列表或元组中有多个最大最小值，则打印出那个"
   ]
  },
  {
   "cell_type": "code",
   "execution_count": 13,
   "metadata": {},
   "outputs": [
    {
     "name": "stdout",
     "output_type": "stream",
     "text": [
      "(1, 2, 3, 4, 5, 6, 7)\n",
      "()\n"
     ]
    }
   ],
   "source": [
    "# tuple 转换或创建元组\n",
    "l = [1,2,3,4,5,6,7]\n",
    "t = tuple(l)\n",
    "print(t)\n",
    "t = tuple()\n",
    "print(t)"
   ]
  },
  {
   "cell_type": "markdown",
   "metadata": {},
   "source": [
    "# 元组的函数\n",
    "- 基本跟list通用"
   ]
  },
  {
   "cell_type": "code",
   "execution_count": 166,
   "metadata": {},
   "outputs": [
    {
     "name": "stdout",
     "output_type": "stream",
     "text": [
      "1\n",
      "6\n",
      "7\n"
     ]
    }
   ],
   "source": [
    "# count: 计算指定数据出现次数\n",
    "t = (1,2,3,4,5,6,7,8,8,9)\n",
    "print(t.count(2))\n",
    "\n",
    "# index:求指定元素在元组中的索引位置\n",
    "print(t.index(7))\n",
    "\n",
    "# 如果需要检查的数字是多个，则返回第一个\n",
    "print(t.index(8))"
   ]
  },
  {
   "cell_type": "markdown",
   "metadata": {},
   "source": [
    "# 元组变量交换\n",
    "- 两个变量交换值"
   ]
  },
  {
   "cell_type": "code",
   "execution_count": 19,
   "metadata": {},
   "outputs": [
    {
     "name": "stdout",
     "output_type": "stream",
     "text": [
      "1\n",
      "3\n",
      "********************\n",
      "3\n",
      "1\n",
      "********************\n",
      "1\n",
      "3\n"
     ]
    }
   ],
   "source": [
    "# 两个变量交换值\n",
    "a = 1\n",
    "b = 3\n",
    "print(a)\n",
    "print(b)\n",
    "print(\"*\" * 20)\n",
    "# java \n",
    "c = a\n",
    "a = b \n",
    "b = c\n",
    "print(a)\n",
    "print(c)\n",
    "\n",
    "print(\"*\" * 20)\n",
    "# python\n",
    "a,b = b,a\n",
    "print(a)\n",
    "print(b)"
   ]
  },
  {
   "cell_type": "markdown",
   "metadata": {},
   "source": [
    "# 集合-set\n",
    "- 集合时高中数学中的一个概念\n",
    "- 一堆确定的无序的唯一数据，集合中每个数据成为一个元素"
   ]
  },
  {
   "cell_type": "code",
   "execution_count": 23,
   "metadata": {},
   "outputs": [
    {
     "name": "stdout",
     "output_type": "stream",
     "text": [
      "<class 'set'>\n",
      "set()\n",
      "<class 'set'>\n",
      "{1, 2, 3, 4, 5, 6, 7, 8}\n"
     ]
    }
   ],
   "source": [
    "# 集合的定义\n",
    "s = set()\n",
    "print(type(s))\n",
    "print(s)\n",
    "\n",
    "#此时，大括号内一定要有值，否则定义出的是dict\n",
    "s = {1,2,3,4,5,6,7,8}\n",
    "print(type(s))\n",
    "print(s)"
   ]
  },
  {
   "cell_type": "code",
   "execution_count": 24,
   "metadata": {},
   "outputs": [
    {
     "name": "stdout",
     "output_type": "stream",
     "text": [
      "<class 'dict'>\n",
      "{}\n"
     ]
    }
   ],
   "source": [
    "# 如果只是用大括号定义，则定义的是一个dict类型\n",
    "d = {}\n",
    "print(type(d))\n",
    "print(d)"
   ]
  },
  {
   "cell_type": "markdown",
   "metadata": {},
   "source": [
    "# 集合的特征\n",
    "- 集合内数据无序，即无法使用索引和切片\n",
    "- 集合内部数据元素具有唯一性，可以用来排除重复数据\n",
    "- 集合内的数据,str.int,float,tuple,冰冻集合等，即内部只能放置可哈希数据"
   ]
  },
  {
   "cell_type": "markdown",
   "metadata": {},
   "source": [
    "# 集合序列操作"
   ]
  },
  {
   "cell_type": "code",
   "execution_count": 27,
   "metadata": {},
   "outputs": [
    {
     "name": "stdout",
     "output_type": "stream",
     "text": [
      "{5, 6, 7, 'tencaster', 'zerosaber'}\n",
      "爱\n",
      "不爱\n"
     ]
    }
   ],
   "source": [
    "# 成员检测\n",
    "# in not in \n",
    "s = {5,6,7,\"zerosaber\",\"tencaster\"}\n",
    "print(s)\n",
    "\n",
    "if \"zerosaber\" in s:\n",
    "    print(\"爱\")\n",
    "if \"zero\" not in s:\n",
    "    print(\"不爱\")"
   ]
  },
  {
   "cell_type": "markdown",
   "metadata": {},
   "source": [
    "# 集合遍历操作"
   ]
  },
  {
   "cell_type": "code",
   "execution_count": 30,
   "metadata": {},
   "outputs": [
    {
     "name": "stdout",
     "output_type": "stream",
     "text": [
      "5 6 7 tencaster zerosaber "
     ]
    }
   ],
   "source": [
    "# for 循环\n",
    "s = {5,6,7,\"zerosaber\",\"tencaster\"}\n",
    "\n",
    "for i in s:\n",
    "    print(i,end= \" \")"
   ]
  },
  {
   "cell_type": "code",
   "execution_count": 34,
   "metadata": {},
   "outputs": [
    {
     "ename": "TypeError",
     "evalue": "unhashable type: 'set'",
     "output_type": "error",
     "traceback": [
      "\u001b[1;31m---------------------------------------------------------------------------\u001b[0m",
      "\u001b[1;31mTypeError\u001b[0m                                 Traceback (most recent call last)",
      "\u001b[1;32m<ipython-input-34-dcb92ef74f2c>\u001b[0m in \u001b[0;36m<module>\u001b[1;34m\u001b[0m\n\u001b[0;32m      1\u001b[0m \u001b[1;31m# 带有元组的集合遍历\u001b[0m\u001b[1;33m\u001b[0m\u001b[1;33m\u001b[0m\u001b[1;33m\u001b[0m\u001b[0m\n\u001b[1;32m----> 2\u001b[1;33m \u001b[0ms\u001b[0m \u001b[1;33m=\u001b[0m \u001b[1;33m{\u001b[0m\u001b[1;33m{\u001b[0m\u001b[1;36m1\u001b[0m\u001b[1;33m,\u001b[0m\u001b[1;36m2\u001b[0m\u001b[1;33m,\u001b[0m\u001b[1;36m4\u001b[0m\u001b[1;33m}\u001b[0m\u001b[1;33m,\u001b[0m\u001b[1;33m{\u001b[0m\u001b[1;36m5\u001b[0m\u001b[1;33m,\u001b[0m\u001b[1;36m6\u001b[0m\u001b[1;33m,\u001b[0m\u001b[1;36m7\u001b[0m\u001b[1;33m,\u001b[0m\u001b[1;34m\"zerosaber\"\u001b[0m\u001b[1;33m,\u001b[0m\u001b[1;34m\"tencaster\"\u001b[0m\u001b[1;33m}\u001b[0m\u001b[1;33m,\u001b[0m\u001b[1;33m{\u001b[0m\u001b[1;36m8\u001b[0m\u001b[1;33m,\u001b[0m\u001b[1;36m9\u001b[0m\u001b[1;33m,\u001b[0m\u001b[1;36m10\u001b[0m\u001b[1;33m}\u001b[0m\u001b[1;33m}\u001b[0m\u001b[1;33m\u001b[0m\u001b[1;33m\u001b[0m\u001b[0m\n\u001b[0m\u001b[0;32m      3\u001b[0m \u001b[1;33m\u001b[0m\u001b[0m\n\u001b[0;32m      4\u001b[0m \u001b[1;32mfor\u001b[0m \u001b[0mk\u001b[0m\u001b[1;33m,\u001b[0m\u001b[0mv\u001b[0m\u001b[1;33m,\u001b[0m\u001b[0mf\u001b[0m \u001b[1;32min\u001b[0m \u001b[0ms\u001b[0m\u001b[1;33m:\u001b[0m\u001b[1;33m\u001b[0m\u001b[1;33m\u001b[0m\u001b[0m\n\u001b[0;32m      5\u001b[0m     \u001b[0mprint\u001b[0m\u001b[1;33m(\u001b[0m\u001b[0mk\u001b[0m\u001b[1;33m,\u001b[0m\u001b[1;34m'---'\u001b[0m\u001b[1;33m,\u001b[0m\u001b[0mv\u001b[0m\u001b[1;33m,\u001b[0m\u001b[1;34m'---'\u001b[0m\u001b[1;33m,\u001b[0m\u001b[0mf\u001b[0m\u001b[1;33m)\u001b[0m\u001b[1;33m\u001b[0m\u001b[1;33m\u001b[0m\u001b[0m\n",
      "\u001b[1;31mTypeError\u001b[0m: unhashable type: 'set'"
     ]
    }
   ],
   "source": [
    "# 带有元组的集合遍历\n",
    "# 集合不可哈希\n",
    "s = {{1,2,4},{5,6,7,\"zerosaber\",\"tencaster\"},{8,9,10}}\n",
    "\n",
    "for k,v,f in s:\n",
    "    print(k,'---',v,'---',f)"
   ]
  },
  {
   "cell_type": "code",
   "execution_count": 60,
   "metadata": {},
   "outputs": [
    {
     "name": "stdout",
     "output_type": "stream",
     "text": [
      "8 --- 9 --- 10\n",
      "5 --- zerosaber --- tencaster\n",
      "1 --- 2 --- 4\n",
      "(8, 9, 10)\n",
      "(5, 'zerosaber', 'tencaster')\n",
      "(1, 2, 4)\n"
     ]
    }
   ],
   "source": [
    "s = {(1,2,4),(5,\"zerosaber\",\"tencaster\"),(8,9,10)}\n",
    "\n",
    "for k,v,f in s:\n",
    "    print(k,'---',v,'---',f)\n",
    "    \n",
    "for k in s:\n",
    "    print(k)"
   ]
  },
  {
   "cell_type": "markdown",
   "metadata": {},
   "source": [
    "# 集合的内涵\n"
   ]
  },
  {
   "cell_type": "code",
   "execution_count": 85,
   "metadata": {},
   "outputs": [
    {
     "name": "stdout",
     "output_type": "stream",
     "text": [
      "{1, 67, 4, 5, 6, 7, 8, 23, 56}\n",
      "{1, 67, 4, 5, 6, 7, 8, 23, 56}\n"
     ]
    }
   ],
   "source": [
    "# 普通集合内涵\n",
    "# 以下集合在初始化之后自动过滤掉重复元素\n",
    "s = {1,23,4,5,6,56,7,67,7,8}\n",
    "print(s)\n",
    "# 普通集合内涵\n",
    "ss = {i for i in s}\n",
    "print(ss)"
   ]
  },
  {
   "cell_type": "code",
   "execution_count": 86,
   "metadata": {},
   "outputs": [
    {
     "name": "stdout",
     "output_type": "stream",
     "text": [
      "{8, 56, 4, 6}\n"
     ]
    }
   ],
   "source": [
    "# 带条件的集合内涵\n",
    "sss = {i for i in s if i % 2 == 0}\n",
    "print(sss)"
   ]
  },
  {
   "cell_type": "code",
   "execution_count": 96,
   "metadata": {},
   "outputs": [
    {
     "name": "stdout",
     "output_type": "stream",
     "text": [
      "{'zerozerozero', 'zero', 'iii', 'iiiii', 'iiii', 'zerozerozerozero', 'zerozerozerozerozero', 'i'}\n",
      "set()\n"
     ]
    }
   ],
   "source": [
    "# 多循环的集合内涵\n",
    "s1 = {1,3,4,5}\n",
    "s2 = {\"i\",\"zero\"}\n",
    "\n",
    "s = {m*n for m in s2 for n in s1} \n",
    "print(s)\n",
    "ss = {m*n for m in s2 for n in s1 if n == 2} \n",
    "print(ss)"
   ]
  },
  {
   "cell_type": "markdown",
   "metadata": {},
   "source": [
    "# 集合函数/关于集合的函数"
   ]
  },
  {
   "cell_type": "code",
   "execution_count": 100,
   "metadata": {},
   "outputs": [
    {
     "name": "stdout",
     "output_type": "stream",
     "text": [
      "9\n",
      "89\n",
      "1\n"
     ]
    }
   ],
   "source": [
    "# len,max,min跟其他基本函数一致\n",
    "s = {1,2,3,4,5,6,7,8,8,89}\n",
    "print(len(s))\n",
    "print(max(s))\n",
    "print(min(s))"
   ]
  },
  {
   "cell_type": "code",
   "execution_count": 102,
   "metadata": {},
   "outputs": [
    {
     "name": "stdout",
     "output_type": "stream",
     "text": [
      "{1, 2, 3, 4, 5, 6, 7}\n"
     ]
    }
   ],
   "source": [
    "# set:生成一个集合 \n",
    "l = [1,2,3,4,5,6,7]\n",
    "s = set(l)\n",
    "print(s)"
   ]
  },
  {
   "cell_type": "code",
   "execution_count": 105,
   "metadata": {},
   "outputs": [
    {
     "name": "stdout",
     "output_type": "stream",
     "text": [
      "{1, 6}\n"
     ]
    }
   ],
   "source": [
    "# add: 集合内涵添加元素\n",
    "s = {1}\n",
    "s.add(6)\n",
    "print(s)"
   ]
  },
  {
   "cell_type": "code",
   "execution_count": 108,
   "metadata": {},
   "outputs": [
    {
     "name": "stdout",
     "output_type": "stream",
     "text": [
      "2114623404744\n",
      "2114623404744\n"
     ]
    }
   ],
   "source": [
    "# clear 清空\n",
    "s = {1,2,3,45,6,7,8}\n",
    "print(id(s))\n",
    "s.clear()\n",
    "print(id(s))\n",
    "# 结果说明clear函数是源地清空"
   ]
  },
  {
   "cell_type": "code",
   "execution_count": 110,
   "metadata": {},
   "outputs": [
    {
     "name": "stdout",
     "output_type": "stream",
     "text": [
      "{4, 5, 6, 7, 8}\n",
      "{4, 5, 6, 7, 8}\n",
      "********************\n",
      "{4, 5, 6, 7, 8}\n"
     ]
    },
    {
     "ename": "KeyError",
     "evalue": "1100",
     "output_type": "error",
     "traceback": [
      "\u001b[1;31m---------------------------------------------------------------------------\u001b[0m",
      "\u001b[1;31mKeyError\u001b[0m                                  Traceback (most recent call last)",
      "\u001b[1;32m<ipython-input-110-a466aa9db702>\u001b[0m in \u001b[0;36m<module>\u001b[1;34m\u001b[0m\n\u001b[0;32m     12\u001b[0m \u001b[0ms\u001b[0m\u001b[1;33m.\u001b[0m\u001b[0mdiscard\u001b[0m\u001b[1;33m(\u001b[0m\u001b[1;36m1100\u001b[0m\u001b[1;33m)\u001b[0m\u001b[1;33m\u001b[0m\u001b[1;33m\u001b[0m\u001b[0m\n\u001b[0;32m     13\u001b[0m \u001b[0mprint\u001b[0m\u001b[1;33m(\u001b[0m\u001b[0ms\u001b[0m\u001b[1;33m)\u001b[0m\u001b[1;33m\u001b[0m\u001b[1;33m\u001b[0m\u001b[0m\n\u001b[1;32m---> 14\u001b[1;33m \u001b[0ms\u001b[0m\u001b[1;33m.\u001b[0m\u001b[0mremove\u001b[0m\u001b[1;33m(\u001b[0m\u001b[1;36m1100\u001b[0m\u001b[1;33m)\u001b[0m\u001b[1;33m\u001b[0m\u001b[1;33m\u001b[0m\u001b[0m\n\u001b[0m\u001b[0;32m     15\u001b[0m \u001b[0mprint\u001b[0m\u001b[1;33m(\u001b[0m\u001b[0ms\u001b[0m\u001b[1;33m)\u001b[0m\u001b[1;33m\u001b[0m\u001b[1;33m\u001b[0m\u001b[0m\n\u001b[0;32m     16\u001b[0m \u001b[1;33m\u001b[0m\u001b[0m\n",
      "\u001b[1;31mKeyError\u001b[0m: 1100"
     ]
    }
   ],
   "source": [
    "# copy:拷贝\n",
    "# remove:移除指定的值，如果要删除的值不存在，报错\n",
    "# discard:移除集合中指定的值，如果要删除的值不存在，不报错\n",
    "\n",
    "s = {23,4,5,6,7,8}\n",
    "s.remove(23)\n",
    "print(s)\n",
    "s.discard(23)\n",
    "print(s)\n",
    "\n",
    "print(\"*\" * 20)\n",
    "s.discard(1100)\n",
    "print(s)\n",
    "s.remove(1100)\n",
    "print(s)\n",
    "\n",
    "# 为啥 remove 不存在的值会报keyerror"
   ]
  },
  {
   "cell_type": "code",
   "execution_count": 112,
   "metadata": {},
   "outputs": [
    {
     "name": "stdout",
     "output_type": "stream",
     "text": [
      "1\n",
      "{2, 3, 4, 5, 6, 7, 8}\n"
     ]
    }
   ],
   "source": [
    "# pop 随机移除一个元素\n",
    "s = {1,2,3,4,5,6,7,8}\n",
    "d = s.pop()\n",
    "print(d)\n",
    "print(s)"
   ]
  },
  {
   "cell_type": "markdown",
   "metadata": {},
   "source": [
    "# 集合函数\n",
    "- intersection: 交集\n",
    "- difference: 差集\n",
    "- union:并集\n",
    "- issubset:检查一个集合是否为另一个子集\n",
    "- issuperset: 检查一个集合是否为另一个超集"
   ]
  },
  {
   "cell_type": "code",
   "execution_count": 114,
   "metadata": {},
   "outputs": [
    {
     "name": "stdout",
     "output_type": "stream",
     "text": [
      "{5, 6}\n",
      "{1, 2, 3, 4}\n",
      "False\n"
     ]
    }
   ],
   "source": [
    "s1 = {1,2,3,4,5,6}\n",
    "s2 = {5,6,7,8,9}\n",
    "\n",
    "s_1 = s1.intersection(s2)\n",
    "print(s_1)\n",
    "s_2 = s1.difference(s2)\n",
    "print(s_2)\n",
    "s_3 = s1.issubset(s2)\n",
    "print(s_3)\n"
   ]
  },
  {
   "cell_type": "code",
   "execution_count": 118,
   "metadata": {},
   "outputs": [
    {
     "name": "stdout",
     "output_type": "stream",
     "text": [
      "{1, 2, 3, 4}\n"
     ]
    }
   ],
   "source": [
    "# 集合的数学操作\n",
    "s1 = {1,2,3,4,5,6}\n",
    "s2 = {5,6,7,8,9}\n",
    "s_1 = s1 - s2\n",
    "print(s_1)"
   ]
  },
  {
   "cell_type": "markdown",
   "metadata": {},
   "source": [
    "# forzen set:冰冻集合\n",
    "- 冰冻集合就是不可进行任何修改的集合\n",
    "- frozenset是一种特殊的集合"
   ]
  },
  {
   "cell_type": "code",
   "execution_count": 122,
   "metadata": {},
   "outputs": [
    {
     "name": "stdout",
     "output_type": "stream",
     "text": [
      "frozenset()\n",
      "<class 'frozenset'>\n"
     ]
    }
   ],
   "source": [
    "# 创建\n",
    "s = frozenset()\n",
    "print(s)\n",
    "print(type(s))"
   ]
  },
  {
   "cell_type": "markdown",
   "metadata": {},
   "source": [
    "# dict 字典\n",
    "- 字典是一种组合数据，没有顺序的组合数据，数据以键值对形式出现"
   ]
  },
  {
   "cell_type": "code",
   "execution_count": 130,
   "metadata": {},
   "outputs": [
    {
     "name": "stdout",
     "output_type": "stream",
     "text": [
      "{}\n",
      "{}\n",
      "{'one': 1, 'two': 2, 'three': 3}\n",
      "{'one': 1, 'two': 2, 'three': 3}\n",
      "{'one': 1, 'two': 2, 'three': 3}\n",
      "{'one': 1, 'two': 2, 'three': 3}\n"
     ]
    }
   ],
   "source": [
    "# 字典的创建\n",
    "d = {}\n",
    "print(d)\n",
    "\n",
    "d = dict()\n",
    "print(d)\n",
    "# 创建有值的字典，每一组数据用冒号隔开，每一对键值对用逗号隔开\n",
    "d = {\"one\":1,\"two\":2,\"three\":3}\n",
    "print(d)\n",
    "# 用dict创建有内容字典1\n",
    "d = dict({\"one\":1,\"two\":2,\"three\":3})\n",
    "print(d)\n",
    "# 用关键字参数创建有内容字典1\n",
    "d = dict(one=1,two=2,three=3)\n",
    "print(d)\n",
    "\n",
    "d = dict([(\"one\",1),(\"two\",2),(\"three\",3)])\n",
    "print(d)"
   ]
  },
  {
   "cell_type": "markdown",
   "metadata": {},
   "source": [
    "# 字典的特征\n",
    "- 字典是序列类型，但是是无序序列，所以没有切片和索引\n",
    "- 字典中的数据每一个都有键值对组成，即key,value\n",
    "    - key: 必须是可哈希的值， 比如int, string,float\n",
    "    - value: 任何值"
   ]
  },
  {
   "cell_type": "markdown",
   "metadata": {},
   "source": [
    "# 字典常见操作"
   ]
  },
  {
   "cell_type": "code",
   "execution_count": 133,
   "metadata": {},
   "outputs": [
    {
     "name": "stdout",
     "output_type": "stream",
     "text": [
      "1\n",
      "{'one': 'eins', 'two': 2, 'three': 3}\n",
      "{'two': 2, 'three': 3}\n"
     ]
    }
   ],
   "source": [
    "# 访问数据\n",
    "d = {\"one\":1,\"two\":2,\"three\":3}\n",
    "# 注意访问格式\n",
    "# 中括号内是键值\n",
    "print(d[\"one\"])\n",
    "\n",
    "d[\"one\"] = \"eins\"\n",
    "print(d)\n",
    "\n",
    "# 删除某个操作\n",
    "# 使用del操作\n",
    "\n",
    "del d[\"one\"]\n",
    "print(d)"
   ]
  },
  {
   "cell_type": "code",
   "execution_count": 135,
   "metadata": {},
   "outputs": [
    {
     "name": "stdout",
     "output_type": "stream",
     "text": [
      "key\n"
     ]
    }
   ],
   "source": [
    "# 成员检测 ，  in , not in \n",
    "# 成员检查检测的是key内容\n",
    "d = {\"one\":1,\"two\":2,\"three\":3}\n",
    "\n",
    "if 2 in d:\n",
    "    print(\"value\")\n",
    "if \"two\" in d:\n",
    "    print(\"key\")\n",
    "if (\"two\",2) in d:\n",
    "    print(\"kv\")"
   ]
  },
  {
   "cell_type": "code",
   "execution_count": 143,
   "metadata": {},
   "outputs": [
    {
     "name": "stdout",
     "output_type": "stream",
     "text": [
      "one 1\n",
      "two 2\n",
      "three 3\n",
      "one 1\n",
      "two 2\n",
      "three 3\n",
      "1\n",
      "2\n",
      "3\n",
      "one --- 1\n",
      "two --- 2\n",
      "three --- 3\n"
     ]
    }
   ],
   "source": [
    "# 遍历在python2 和python 3中比较大小，代码不通用\n",
    "# 按key来使用for循环\n",
    "d = {\"one\":1,\"two\":2,\"three\":3}\n",
    "# 使用for循环，直接按key值访问\n",
    "for k in d:\n",
    "    print(k,d[k])\n",
    "    \n",
    "# 上述代码可以改写成\n",
    "for k in d.keys():\n",
    "    print(k,d[k])\n",
    "\n",
    "for v in d.values():\n",
    "    print(v)\n",
    "\n",
    "# 注意下列特殊用法\n",
    "for k,v in d.items():\n",
    "    print(k,'---',v)"
   ]
  },
  {
   "cell_type": "markdown",
   "metadata": {},
   "source": [
    "# 字典生成式"
   ]
  },
  {
   "cell_type": "code",
   "execution_count": 147,
   "metadata": {},
   "outputs": [
    {
     "name": "stdout",
     "output_type": "stream",
     "text": [
      "{'one': 1, 'two': 2, 'three': 3}\n",
      "{'two': 2}\n"
     ]
    }
   ],
   "source": [
    "d = {\"one\":1,\"two\":2,\"three\":3}\n",
    "# 常规字典生成式\n",
    "dd = {k:v for k,v in d.items()}\n",
    "print(dd)\n",
    "\n",
    "# 加限制条件的字典生成式  生成式是为了过滤\n",
    "dd = {k:v for k,v in d.items() if v% 2 == 0}\n",
    "print(dd)"
   ]
  },
  {
   "cell_type": "markdown",
   "metadata": {},
   "source": [
    "# 字典相关函数"
   ]
  },
  {
   "cell_type": "code",
   "execution_count": 149,
   "metadata": {},
   "outputs": [
    {
     "name": "stdout",
     "output_type": "stream",
     "text": [
      "{'one': 1, 'two': 2, 'three': 3}\n"
     ]
    }
   ],
   "source": [
    "# 通用函数: len, max , min , dict\n",
    "# *str(字典)： 返回字典的字符串格式\n",
    "d = {\"one\":1,\"two\":2,\"three\":3}\n",
    "print(str(d))"
   ]
  },
  {
   "cell_type": "code",
   "execution_count": 151,
   "metadata": {},
   "outputs": [
    {
     "name": "stdout",
     "output_type": "stream",
     "text": [
      "<class 'dict_items'>\n",
      "dict_items([('one', 1), ('two', 2), ('three', 3)])\n"
     ]
    }
   ],
   "source": [
    "# clear: 清空字典\n",
    "# items: 返回字典的键值对组成的元组格式\n",
    "d = {\"one\":1,\"two\":2,\"three\":3}\n",
    "i = d.items()\n",
    "print(type(i))\n",
    "print(i)"
   ]
  },
  {
   "cell_type": "code",
   "execution_count": 154,
   "metadata": {},
   "outputs": [
    {
     "name": "stdout",
     "output_type": "stream",
     "text": [
      "<class 'dict_keys'>\n",
      "dict_keys(['one', 'two', 'three'])\n"
     ]
    }
   ],
   "source": [
    "# keys:返回字典的键组成的一个结构\n",
    "k = d.keys()\n",
    "print(type(k))\n",
    "print(k)"
   ]
  },
  {
   "cell_type": "code",
   "execution_count": 158,
   "metadata": {},
   "outputs": [
    {
     "name": "stdout",
     "output_type": "stream",
     "text": [
      "<class 'dict_values'>\n",
      "dict_values([1, 2, 3])\n"
     ]
    }
   ],
   "source": [
    "# values:一个可迭代的结构\n",
    "v = d.values()\n",
    "print(type(v))\n",
    "print(v)"
   ]
  },
  {
   "cell_type": "code",
   "execution_count": 163,
   "metadata": {
    "scrolled": true
   },
   "outputs": [
    {
     "name": "stdout",
     "output_type": "stream",
     "text": [
      "None\n",
      "1\n",
      "100\n"
     ]
    },
    {
     "ename": "KeyError",
     "evalue": "'0n333'",
     "output_type": "error",
     "traceback": [
      "\u001b[1;31m---------------------------------------------------------------------------\u001b[0m",
      "\u001b[1;31mKeyError\u001b[0m                                  Traceback (most recent call last)",
      "\u001b[1;32m<ipython-input-163-1bea32d1993f>\u001b[0m in \u001b[0;36m<module>\u001b[1;34m\u001b[0m\n\u001b[0;32m      7\u001b[0m \u001b[0mprint\u001b[0m\u001b[1;33m(\u001b[0m\u001b[0md\u001b[0m\u001b[1;33m.\u001b[0m\u001b[0mget\u001b[0m\u001b[1;33m(\u001b[0m\u001b[1;34m\"one333\"\u001b[0m\u001b[1;33m,\u001b[0m\u001b[1;36m100\u001b[0m\u001b[1;33m)\u001b[0m\u001b[1;33m)\u001b[0m\u001b[1;33m\u001b[0m\u001b[1;33m\u001b[0m\u001b[0m\n\u001b[0;32m      8\u001b[0m \u001b[1;31m#以下代码跟上面代码的区别\u001b[0m\u001b[1;33m\u001b[0m\u001b[1;33m\u001b[0m\u001b[1;33m\u001b[0m\u001b[0m\n\u001b[1;32m----> 9\u001b[1;33m \u001b[0mprint\u001b[0m\u001b[1;33m(\u001b[0m\u001b[0md\u001b[0m\u001b[1;33m[\u001b[0m\u001b[1;34m\"0n333\"\u001b[0m\u001b[1;33m]\u001b[0m\u001b[1;33m)\u001b[0m\u001b[1;33m\u001b[0m\u001b[1;33m\u001b[0m\u001b[0m\n\u001b[0m",
      "\u001b[1;31mKeyError\u001b[0m: '0n333'"
     ]
    }
   ],
   "source": [
    "# get:根据指定键返回相应的值，好处式，可以设置默认值\n",
    "# keys:返回字典的键组成的一个结构\n",
    "d = {\"one\":1,\"two\":2,\"three\":3}\n",
    "print(d.get(\"on333\"))\n",
    "# get默认值式None,可以设置\n",
    "print(d.get(\"one\",100))\n",
    "print(d.get(\"one333\",100))\n",
    "#以下代码跟上面代码的区别\n",
    "print(d[\"0n333\"])"
   ]
  },
  {
   "cell_type": "code",
   "execution_count": 164,
   "metadata": {},
   "outputs": [
    {
     "name": "stdout",
     "output_type": "stream",
     "text": [
      "{'eins': 'hhhhhh', 'zwei': 'hhhhhh', 'dree': 'hhhhhh'}\n"
     ]
    }
   ],
   "source": [
    "# fromkeys: 使用指定的序列作为键，使用一个值作为字典的所有的值\n",
    "l = [\"eins\",\"zwei\",\"dree\"]\n",
    "# 注意fromkeys两个参数的类型\n",
    "# 注意fromkeys的调用主体\n",
    "d = dict.fromkeys(l,\"hhhhhh\")\n",
    "print(d)"
   ]
  }
 ],
 "metadata": {
  "kernelspec": {
   "display_name": "Python 3",
   "language": "python",
   "name": "python3"
  },
  "language_info": {
   "codemirror_mode": {
    "name": "ipython",
    "version": 3
   },
   "file_extension": ".py",
   "mimetype": "text/x-python",
   "name": "python",
   "nbconvert_exporter": "python",
   "pygments_lexer": "ipython3",
   "version": "3.7.4"
  }
 },
 "nbformat": 4,
 "nbformat_minor": 2
}
