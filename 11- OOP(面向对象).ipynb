{
 "cells": [
  {
   "cell_type": "code",
   "execution_count": 5,
   "metadata": {},
   "outputs": [
    {
     "name": "stdout",
     "output_type": "stream",
     "text": [
      "zhangjt 25\n"
     ]
    },
    {
     "data": {
      "text/plain": [
       "{}"
      ]
     },
     "execution_count": 5,
     "metadata": {},
     "output_type": "execute_result"
    }
   ],
   "source": [
    "# 查看对象的所有成员\n",
    "class A():\n",
    "    name = \"zhangjt\"\n",
    "    age = 25\n",
    "    print(name,age)\n",
    "A.__dict__\n",
    "# 实例化\n",
    "a = A()\n",
    "a.__dict__"
   ]
  },
  {
   "cell_type": "code",
   "execution_count": 7,
   "metadata": {},
   "outputs": [
    {
     "name": "stdout",
     "output_type": "stream",
     "text": [
      "zhangjt\n",
      "25\n",
      "********************\n",
      "2057303270192\n",
      "140711882695824\n",
      "********************\n",
      "zhangjt\n",
      "25\n",
      "2057303270192\n",
      "140711882695824\n"
     ]
    }
   ],
   "source": [
    "class B():\n",
    "    name = \"zhangjt\"\n",
    "    age = 25\n",
    "    \n",
    "    # 注意say的写法，参数有一个self\n",
    "    def say(self):\n",
    "        self.name = \"zero\"\n",
    "        self.age = 3000\n",
    "# 说明类实例的属性和其对象的实例的属性在不对对象的实例属性赋值的前提下\n",
    "# 指向同一个变量\n",
    "print(B.name)\n",
    "print(B.age)\n",
    "print(\"*\" * 20)\n",
    "\n",
    "print(id(B.name))\n",
    "print(id(B.age))\n",
    "print(\"*\" * 20)\n",
    "b = B()\n",
    "\n",
    "print(b.name)\n",
    "print(b.age)\n",
    "print(id(b.name))\n",
    "print(id(b.age))"
   ]
  },
  {
   "cell_type": "code",
   "execution_count": 9,
   "metadata": {},
   "outputs": [
    {
     "name": "stdout",
     "output_type": "stream",
     "text": [
      "zhangjt\n",
      "25\n",
      "********************\n",
      "2057303270192\n",
      "140711882695824\n",
      "********************\n",
      "zero\n",
      "19\n",
      "2059428743536\n",
      "140711882695632\n"
     ]
    }
   ],
   "source": [
    "print(B.name)\n",
    "print(B.age)\n",
    "print(\"*\" * 20)\n",
    "\n",
    "print(id(B.name))\n",
    "print(id(B.age))\n",
    "print(\"*\" * 20)\n",
    "b = B()\n",
    "b.name = \"zero\"\n",
    "b.age = 19\n",
    "\n",
    "print(b.name)\n",
    "print(b.age)\n",
    "print(id(b.name))\n",
    "print(id(b.age))"
   ]
  },
  {
   "cell_type": "code",
   "execution_count": 13,
   "metadata": {},
   "outputs": [
    {
     "name": "stdout",
     "output_type": "stream",
     "text": [
      "My name is zero\n",
      "My age is 3000\n"
     ]
    }
   ],
   "source": [
    "class C():\n",
    "    name = \"zhangjt\"\n",
    "    age = 25\n",
    "    \n",
    "    # 注意say的写法，参数有一个self 代表对象本身,不是关键字\n",
    "    def say(self):\n",
    "        self.name = \"zero\"\n",
    "        self.age = 3000\n",
    "        print(\"My name is {0}\".format(self.name))\n",
    "        print(\"My age is {0}\".format(self.age))\n",
    "        \n",
    "c = C()\n",
    "c.say()"
   ]
  },
  {
   "cell_type": "code",
   "execution_count": 19,
   "metadata": {},
   "outputs": [
    {
     "name": "stdout",
     "output_type": "stream",
     "text": [
      "My name is zero\n",
      "My age is 3000\n",
      "zhangjt\n",
      "25\n",
      "Hellow world\n"
     ]
    },
    {
     "ename": "TypeError",
     "evalue": "sayAgain() takes 0 positional arguments but 1 was given",
     "output_type": "error",
     "traceback": [
      "\u001b[1;31m---------------------------------------------------------------------------\u001b[0m",
      "\u001b[1;31mTypeError\u001b[0m                                 Traceback (most recent call last)",
      "\u001b[1;32m<ipython-input-19-7eecbbc82b9b>\u001b[0m in \u001b[0;36m<module>\u001b[1;34m\u001b[0m\n\u001b[0;32m     17\u001b[0m \u001b[1;31m# 调用绑定类得函数使用类名\u001b[0m\u001b[1;33m\u001b[0m\u001b[1;33m\u001b[0m\u001b[1;33m\u001b[0m\u001b[0m\n\u001b[0;32m     18\u001b[0m \u001b[0mTeacher\u001b[0m\u001b[1;33m.\u001b[0m\u001b[0msayAgain\u001b[0m\u001b[1;33m(\u001b[0m\u001b[1;33m)\u001b[0m\u001b[1;33m\u001b[0m\u001b[1;33m\u001b[0m\u001b[0m\n\u001b[1;32m---> 19\u001b[1;33m \u001b[0mt\u001b[0m\u001b[1;33m.\u001b[0m\u001b[0msayAgain\u001b[0m\u001b[1;33m(\u001b[0m\u001b[1;33m)\u001b[0m\u001b[1;33m\u001b[0m\u001b[1;33m\u001b[0m\u001b[0m\n\u001b[0m",
      "\u001b[1;31mTypeError\u001b[0m: sayAgain() takes 0 positional arguments but 1 was given"
     ]
    }
   ],
   "source": [
    "class Teacher():\n",
    "    name = \"zhangjt\"\n",
    "    age = 25\n",
    "    \n",
    "    # 注意say的写法，参数有一个self 代表对象本身,不是关键字\n",
    "    def say(self):\n",
    "        self.name = \"zero\"\n",
    "        self.age = 3000\n",
    "        print(\"My name is {0}\".format(self.name))\n",
    "        # 调用类的成员变量需要用__class__\n",
    "        print(\"My age is {0}\".format(__class__.age))\n",
    "\n",
    "    def sayAgain():\n",
    "        print(__class__.name)\n",
    "        print(__class__.age)\n",
    "        print(\"Hellow world\")\n",
    "t = Teacher()\n",
    "t.say()\n",
    "# 调用绑定类得函数使用类名\n",
    "Teacher.sayAgain()\n",
    "t.sayAgain()"
   ]
  },
  {
   "cell_type": "code",
   "execution_count": 27,
   "metadata": {},
   "outputs": [
    {
     "name": "stdout",
     "output_type": "stream",
     "text": [
      "zjt\n",
      "3000\n",
      "zjt\n",
      "3000\n",
      "zhangjt\n",
      "25\n",
      "zero\n",
      "10000\n"
     ]
    }
   ],
   "source": [
    "# 关于self的案例\n",
    "\n",
    "class A():\n",
    "    name = \"zhangjt\"\n",
    "    age = 25\n",
    "    \n",
    "    def __init__(self):\n",
    "        self.name = \"zjt\"\n",
    "        self.age = 3000\n",
    "    def say(self):\n",
    "        print(self.name)\n",
    "        print(self.age)\n",
    "class B():\n",
    "    name = \"zero\"\n",
    "    age = 10000\n",
    "    \n",
    "a = A()\n",
    "# 此时，系统会默认把a当作参数传入函数\n",
    "a.say()\n",
    "# 此时，self 被a代替\n",
    "A.say(a)\n",
    "# 同样可以把A作为参数传入\n",
    "A.say(A)\n",
    "# 此时，传入的时类实例B,因为B具有name和age属性，所以不会报错\n",
    "A.say(B)\n",
    "\n",
    "# 以上代码，利用鸭子模型 只有有翅膀/会游泳/叫声嘎嘎的就是鸭子，不管是不是都被当做鸭子"
   ]
  },
  {
   "cell_type": "code",
   "execution_count": 32,
   "metadata": {},
   "outputs": [
    {
     "name": "stdout",
     "output_type": "stream",
     "text": [
      "zero\n"
     ]
    },
    {
     "ename": "AttributeError",
     "evalue": "'Person' object has no attribute 'age'",
     "output_type": "error",
     "traceback": [
      "\u001b[1;31m---------------------------------------------------------------------------\u001b[0m",
      "\u001b[1;31mAttributeError\u001b[0m                            Traceback (most recent call last)",
      "\u001b[1;32m<ipython-input-32-ceac28aed42b>\u001b[0m in \u001b[0;36m<module>\u001b[1;34m\u001b[0m\n\u001b[0;32m     10\u001b[0m \u001b[1;31m# __age是私有变量\u001b[0m\u001b[1;33m\u001b[0m\u001b[1;33m\u001b[0m\u001b[1;33m\u001b[0m\u001b[0m\n\u001b[0;32m     11\u001b[0m \u001b[1;31m# 注意报错信息\u001b[0m\u001b[1;33m\u001b[0m\u001b[1;33m\u001b[0m\u001b[1;33m\u001b[0m\u001b[0m\n\u001b[1;32m---> 12\u001b[1;33m \u001b[0mprint\u001b[0m\u001b[1;33m(\u001b[0m\u001b[0mp\u001b[0m\u001b[1;33m.\u001b[0m\u001b[0mage\u001b[0m\u001b[1;33m)\u001b[0m\u001b[1;33m\u001b[0m\u001b[1;33m\u001b[0m\u001b[0m\n\u001b[0m\u001b[0;32m     13\u001b[0m \u001b[0mp\u001b[0m\u001b[1;33m.\u001b[0m\u001b[0m_Person__age\u001b[0m \u001b[1;33m=\u001b[0m \u001b[1;36m19\u001b[0m\u001b[1;33m\u001b[0m\u001b[1;33m\u001b[0m\u001b[0m\n\u001b[0;32m     14\u001b[0m \u001b[0mprint\u001b[0m\u001b[1;33m(\u001b[0m\u001b[0mp\u001b[0m\u001b[1;33m.\u001b[0m\u001b[0m_Person__\u001b[0m\u001b[1;33m)\u001b[0m\u001b[1;33m\u001b[0m\u001b[1;33m\u001b[0m\u001b[0m\n",
      "\u001b[1;31mAttributeError\u001b[0m: 'Person' object has no attribute 'age'"
     ]
    }
   ],
   "source": [
    "# 私有变量案例\n",
    "class Person():\n",
    "            #name共有成员\n",
    "            name = \"zero\"\n",
    "            #__age就是私有成员\n",
    "            __age = 3000\n",
    "p  = Person()\n",
    "# name时公有变量\n",
    "print(p.name)\n",
    "# __age是私有变量\n",
    "# 注意报错信息\n",
    "print(p.age)\n",
    "p._Person__age = 19\n",
    "print(p._Person__)"
   ]
  },
  {
   "cell_type": "code",
   "execution_count": 34,
   "metadata": {},
   "outputs": [
    {
     "name": "stdout",
     "output_type": "stream",
     "text": [
      "{'__module__': '__main__', 'name': 'zero', '_Person__age': 3000, '__dict__': <attribute '__dict__' of 'Person' objects>, '__weakref__': <attribute '__weakref__' of 'Person' objects>, '__doc__': None}\n",
      "19\n"
     ]
    }
   ],
   "source": [
    "# name mangling技术\n",
    "print(Person.__dict__)\n",
    "p._Person__age = 19\n",
    "print(p._Person__age)"
   ]
  }
 ],
 "metadata": {
  "kernelspec": {
   "display_name": "Python 3",
   "language": "python",
   "name": "python3"
  },
  "language_info": {
   "codemirror_mode": {
    "name": "ipython",
    "version": 3
   },
   "file_extension": ".py",
   "mimetype": "text/x-python",
   "name": "python",
   "nbconvert_exporter": "python",
   "pygments_lexer": "ipython3",
   "version": "3.7.4"
  }
 },
 "nbformat": 4,
 "nbformat_minor": 2
}
