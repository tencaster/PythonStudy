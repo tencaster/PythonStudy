{
 "cells": [
  {
   "cell_type": "code",
   "execution_count": 8,
   "metadata": {},
   "outputs": [
    {
     "name": "stdout",
     "output_type": "stream",
     "text": [
      "NoName\n",
      "sec\n",
      "NoName\n",
      "Sleeping... ....\n",
      "9527\n",
      "attention\n"
     ]
    }
   ],
   "source": [
    "# 继承的语法\n",
    "# 在python中，任何一个类都有一个共同的父类叫object\n",
    "class Person():\n",
    "    name = \"NoName\"\n",
    "    age = 18\n",
    "    __score = 0   # 考试成绩是私有的,只有自己知道\n",
    "    _petname = \"sec\" # 小名，是受保护的，子类可以使用，但不能公用\n",
    "    def sleep(self):\n",
    "        print(\"Sleeping... ....\")\n",
    "#父类写在括号内\n",
    "class Teacher(Person):\n",
    "    teacher_id = \"9527\"\n",
    "    def make_test(self):                            \n",
    "        print(\"attention\")\n",
    "t = Teacher()\n",
    "print(t.name)\n",
    "print(t._petname)\n",
    "# 受保护不能外部访问，为啥这里可以访问\n",
    "print(Teacher.name)\n",
    "\n",
    "t.sleep()\n",
    "print(t.teacher_id)\n",
    "t.make_test()\n",
    "# 私有访问问题\n",
    "# 公开访问私有变量会报错\n",
    "#print(t.__socre)\n",
    "\n",
    "\n",
    "    \n",
    "    "
   ]
  },
  {
   "cell_type": "code",
   "execution_count": 13,
   "metadata": {},
   "outputs": [
    {
     "name": "stdout",
     "output_type": "stream",
     "text": [
      "Zjt\n"
     ]
    }
   ],
   "source": [
    "# 子类和父类定义同一个名称变量，则优先使用子类本身的变量\n",
    "class Person():\n",
    "    name = \"NoName\"\n",
    "    age = 18\n",
    "    __score = 0   # 考试成绩是私有的,只有自己知道\n",
    "    _petname = \"sec\" # 小名，是受保护的，子类可以使用，但不能公用\n",
    "    def sleep(self):\n",
    "        print(\"Sleeping... ....\")\n",
    "#父类写在括号内\n",
    "class Teacher(Person):\n",
    "    teacher_id = \"9527\"\n",
    "    name = \"Zjt\"\n",
    "    def make_test(self):                            \n",
    "        print(\"attention\")\n",
    "t = Teacher()\n",
    "print(t.name)"
   ]
  },
  {
   "cell_type": "code",
   "execution_count": 7,
   "metadata": {},
   "outputs": [
    {
     "name": "stdout",
     "output_type": "stream",
     "text": [
      "make some money\n",
      "attention\n"
     ]
    }
   ],
   "source": [
    "# 子类扩充父类功能的案例\n",
    "# 人有工作的函数，老师也有工作的函数，但是老师的工作需要讲课\n",
    "class Person():\n",
    "    name = \"NoName\"\n",
    "    age = 18\n",
    "    __score = 0   # 考试成绩是私有的,只有自己知道\n",
    "    _petname = \"sec\" # 小名，是受保护的，子类可以使用，但不能公用\n",
    "    def sleep(self):\n",
    "        print(\"Sleeping... ....\")\n",
    "    def work(self):\n",
    "        print(\"make some money\")\n",
    "#父类写在括号内\n",
    "class Teacher(Person):\n",
    "    teacher_id = \"9527\"\n",
    "    name = \"Zjt\"\n",
    "    def make_test(self):                            \n",
    "        print(\"attention\")\n",
    "    def work(self):     \n",
    "        # 扩充父类的功能只需要调用父类相应的函数\n",
    "        # 下面self代表Teacher的实例\n",
    "        #Person.work(self)\n",
    "        # 扩充父类的另一种方法\n",
    "        # super代表得到父类\n",
    "        super().work()\n",
    "        self.make_test()               \n",
    "t = Teacher()\n",
    "t.work()"
   ]
  },
  {
   "cell_type": "code",
   "execution_count": 20,
   "metadata": {
    "scrolled": false
   },
   "outputs": [
    {
     "name": "stdout",
     "output_type": "stream",
     "text": [
      "I am init in dog\n"
     ]
    }
   ],
   "source": [
    "# 构造函数的概念\n",
    "class Dog():\n",
    "    # __init__就是构造函数,最少有一个参数\n",
    "    # 每次实例化的时候，第一个被自动调用\n",
    "    # 因为主要工作是进行初始化，所以得名\n",
    "    def __init__(self):\n",
    "        print(\"I am init in dog\")\n",
    "# 实例化的时候，括号内的参数需要跟构造函数参数匹配\n",
    "kaka = Dog()\n",
    "\n",
    "class Person():\n",
    "    # 对Person类v进行实例化的时候\n",
    "    # 姓名要确定\n",
    "    # 年龄要确定\n",
    "    # 地址肯定有\n",
    "    def __init__(self):\n",
    "        self.name = \"zjt\"\n",
    "        self.age = 18\n",
    "        self.address = \"yuzhou\"\n",
    "        print(\"In init func\")\n",
    "# 实例化一个人\n",
    "p = Person()"
   ]
  },
  {
   "cell_type": "code",
   "execution_count": 12,
   "metadata": {},
   "outputs": [
    {
     "name": "stdout",
     "output_type": "stream",
     "text": [
      "I am init in dog\n"
     ]
    }
   ],
   "source": [
    "# 继承中的构造函数\n",
    "\n",
    "class Animel():\n",
    "    pass\n",
    "class PaxingAni(Animel):\n",
    "    pass\n",
    "class Dog(PaxingAni):\n",
    "    def __init__(self):\n",
    "        print(\"I am init in dog\")\n",
    "# 实例化的时候，自动调用了dog的构造函数\n",
    "kaka = Dog()"
   ]
  },
  {
   "cell_type": "code",
   "execution_count": 14,
   "metadata": {},
   "outputs": [
    {
     "name": "stdout",
     "output_type": "stream",
     "text": [
      "I am init in dog\n",
      "PaxingAni\n"
     ]
    }
   ],
   "source": [
    "# 继承中的构造函数\n",
    "class Animel():\n",
    "    def __init__(self):\n",
    "        print(\"Animel\")\n",
    "class PaxingAni(Animel):\n",
    "    def __init__(self):\n",
    "        print(\"PaxingAni\")\n",
    "class Dog(PaxingAni):\n",
    "    def __init__(self):\n",
    "        print(\"I am init in dog\")\n",
    "# 实例化的时候，自动调用了dog的构造函数\n",
    "kaka = Dog()\n",
    "# 猫没有写构造函数\n",
    "class Cat(PaxingAni):\n",
    "    pass\n",
    "# 此时应该自动调用构造函数，因为Cat是PaxingAni的子类，所以调用PaxingAni的构造函数\n",
    "# 没有构造函数向上查找，查到后，则停止查找\n",
    "c = Cat()"
   ]
  },
  {
   "cell_type": "code",
   "execution_count": 32,
   "metadata": {},
   "outputs": [
    {
     "name": "stdout",
     "output_type": "stream",
     "text": [
      "I am init in dog\n",
      "PaxingAni zero\n"
     ]
    }
   ],
   "source": [
    "# 继承中的构造函数\n",
    "class Animel():\n",
    "    def __init__(self):\n",
    "        print(\"Animel\")\n",
    "class PaxingAni(Animel):\n",
    "    def __init__(self,name):\n",
    "        self.name = name\n",
    "        print(\"PaxingAni {0}\".format(name))\n",
    "class Dog(PaxingAni):\n",
    "    def __init__(self):\n",
    "        print(\"I am init in dog\")\n",
    "# 实例化Dog时，查找到Dog的构造函数，参数匹配不报错\n",
    "d = Dog()\n",
    "class Cat(PaxingAni):\n",
    "    pass\n",
    "# 此时，由于Cat没有构造函数，则向上查找\n",
    "# 因为PaxingAni的构造函数需要两个参数，实例化的时候只给一个，报错\n",
    "c = Cat(\"zero\")"
   ]
  },
  {
   "cell_type": "code",
   "execution_count": 1,
   "metadata": {},
   "outputs": [
    {
     "name": "stdout",
     "output_type": "stream",
     "text": [
      "Animel\n",
      "Animel\n"
     ]
    }
   ],
   "source": [
    "# 继承中的构造函数\n",
    "class Animel():\n",
    "    def __init__(self):\n",
    "        print(\"Animel\")\n",
    "class PaxingAni(Animel):\n",
    "    pass\n",
    "class Dog(PaxingAni):\n",
    "    pass\n",
    "d = Dog()\n",
    "class Cat(PaxingAni):\n",
    "    pass\n",
    "c = Cat()"
   ]
  },
  {
   "cell_type": "code",
   "execution_count": 4,
   "metadata": {},
   "outputs": [
    {
     "name": "stdout",
     "output_type": "stream",
     "text": [
      "(<class '__main__.A'>, <class 'object'>)\n",
      "(<class '__main__.B'>, <class '__main__.A'>, <class 'object'>)\n"
     ]
    }
   ],
   "source": [
    "# 类名.__mro__  查找该类的继承关系\n",
    "class A():\n",
    "    pass\n",
    "class B(A):\n",
    "    pass\n",
    "class C(B,A):\n",
    "    pass\n",
    "print(A.__mro__)\n",
    "print(B.__mro__)"
   ]
  },
  {
   "cell_type": "code",
   "execution_count": 19,
   "metadata": {},
   "outputs": [
    {
     "name": "stdout",
     "output_type": "stream",
     "text": [
      "Working......\n",
      "I am flying......\n",
      "zjt am swimming...\n"
     ]
    }
   ],
   "source": [
    "# 多继承例子\n",
    "# 子类可以直接拥有父类的属性和方法，私有属性和方法除外\n",
    "class Fish():\n",
    "    def __init__(self,name):\n",
    "        self.name = name\n",
    "    def swim(self,name):\n",
    "        print(\"{0} am swimming...\".format(name))\n",
    "class Bird():\n",
    "    def __init__(self,name):\n",
    "        self.name = name\n",
    "    \n",
    "    def fly(self):\n",
    "        print(\"I am flying......\")\n",
    "class Person():\n",
    "    def __init__(self,name):\n",
    "        self.name = name\n",
    "    \n",
    "    def work(self):\n",
    "        print(\"Working......\")\n",
    "\n",
    "        # 单继承例子\n",
    "class Student(Person):\n",
    "    def __init__(self,name):\n",
    "        self.name = name\n",
    "stu = Student(\"zjt\")\n",
    "stu.work()\n",
    "\n",
    "# 多继承例子\n",
    "class SwimMan(Person,Fish):\n",
    "    def __init__(self,name):\n",
    "        self.name = name\n",
    "\n",
    "class SuperMan(Person,Bird,Fish):\n",
    "    def __init__(self,name):\n",
    "        self.name = name\n",
    "        \n",
    "s = SuperMan(\"zjt\")\n",
    "s.fly()\n",
    "s.swim(\"zjt\")\n",
    "\n",
    "\n",
    "        "
   ]
  },
  {
   "cell_type": "code",
   "execution_count": null,
   "metadata": {},
   "outputs": [],
   "source": [
    "# 菱形继承\n",
    "class A():\n",
    "    pass\n",
    "class B(A):\n",
    "    pass\n",
    "class C(A):\n",
    "    pass\n",
    "class D(B,C):\n",
    "    pass"
   ]
  }
 ],
 "metadata": {
  "kernelspec": {
   "display_name": "Python 3",
   "language": "python",
   "name": "python3"
  },
  "language_info": {
   "codemirror_mode": {
    "name": "ipython",
    "version": 3
   },
   "file_extension": ".py",
   "mimetype": "text/x-python",
   "name": "python",
   "nbconvert_exporter": "python",
   "pygments_lexer": "ipython3",
   "version": "3.7.4"
  }
 },
 "nbformat": 4,
 "nbformat_minor": 2
}
